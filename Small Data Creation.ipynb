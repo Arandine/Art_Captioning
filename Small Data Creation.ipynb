{
 "cells": [
  {
   "cell_type": "code",
   "execution_count": 1,
   "metadata": {},
   "outputs": [],
   "source": [
    "import pandas as pd"
   ]
  },
  {
   "cell_type": "code",
   "execution_count": 2,
   "metadata": {},
   "outputs": [],
   "source": [
    "df = pd.read_csv('/home/hyunwook/Desktop/Python/Art Project - Captioning/data extraction/refined_dataset.csv')"
   ]
  },
  {
   "cell_type": "code",
   "execution_count": 3,
   "metadata": {},
   "outputs": [],
   "source": [
    "small_df = df[df.removed.str.len() <= 50].drop(columns=['Unnamed: 0'])"
   ]
  },
  {
   "cell_type": "code",
   "execution_count": 4,
   "metadata": {},
   "outputs": [
    {
     "data": {
      "text/html": [
       "<div>\n",
       "<style scoped>\n",
       "    .dataframe tbody tr th:only-of-type {\n",
       "        vertical-align: middle;\n",
       "    }\n",
       "\n",
       "    .dataframe tbody tr th {\n",
       "        vertical-align: top;\n",
       "    }\n",
       "\n",
       "    .dataframe thead th {\n",
       "        text-align: right;\n",
       "    }\n",
       "</style>\n",
       "<table border=\"1\" class=\"dataframe\">\n",
       "  <thead>\n",
       "    <tr style=\"text-align: right;\">\n",
       "      <th></th>\n",
       "      <th>image</th>\n",
       "      <th>description</th>\n",
       "      <th>AUTHOR</th>\n",
       "      <th>BORN-DIED</th>\n",
       "      <th>TITLE</th>\n",
       "      <th>DATE</th>\n",
       "      <th>TECHNIQUE</th>\n",
       "      <th>LOCATION</th>\n",
       "      <th>FORM</th>\n",
       "      <th>TYPE</th>\n",
       "      <th>SCHOOL</th>\n",
       "      <th>TIMEFRAME</th>\n",
       "      <th>removed</th>\n",
       "    </tr>\n",
       "  </thead>\n",
       "  <tbody>\n",
       "    <tr>\n",
       "      <th>22</th>\n",
       "      <td>https://www.wga.hu/detail/a/abadie/sacreco3.jpg</td>\n",
       "      <td>['\\r\\nThe photo shows the cupola from inside.\\...</td>\n",
       "      <td>ABADIE, Paul</td>\n",
       "      <td>(b. 1812, Paris, d. 1884, Chatou)</td>\n",
       "      <td>Interior view</td>\n",
       "      <td>1875-1919</td>\n",
       "      <td>Photo</td>\n",
       "      <td>Sacré-Coeur, Paris</td>\n",
       "      <td>architecture</td>\n",
       "      <td>religious</td>\n",
       "      <td>French</td>\n",
       "      <td>1851-1900</td>\n",
       "      <td>The photo shows the cupola from inside.</td>\n",
       "    </tr>\n",
       "    <tr>\n",
       "      <th>51</th>\n",
       "      <td>https://www.wga.hu/detail/a/abildgaa/culmingh.jpg</td>\n",
       "      <td>['\\r\\nThe subject is taken from the Songs of O...</td>\n",
       "      <td>ABILDGAARD, Nicolai</td>\n",
       "      <td>(b. 1743, København, d. 1809, Frederiksdal)</td>\n",
       "      <td>Culmin's Ghost Appears to his Mother</td>\n",
       "      <td>c. 1794</td>\n",
       "      <td>Oil on canvas, 62 x 78 cm</td>\n",
       "      <td>Nationalmuseum, Stockholm</td>\n",
       "      <td>painting</td>\n",
       "      <td>other</td>\n",
       "      <td>Danish</td>\n",
       "      <td>1751-1800</td>\n",
       "      <td>The subject is taken from the Songs of Ossian.</td>\n",
       "    </tr>\n",
       "    <tr>\n",
       "      <th>206</th>\n",
       "      <td>https://www.wga.hu/detail/a/agostin/1rimini/5z...</td>\n",
       "      <td>['\\r\\nThe picture shows the relief depicting S...</td>\n",
       "      <td>AGOSTINO DI DUCCIO</td>\n",
       "      <td>(b. 1418, Firenze, d. 1481, Perugia)</td>\n",
       "      <td>Cappella dei Pianeti (detail)</td>\n",
       "      <td>1449-56</td>\n",
       "      <td>Photo</td>\n",
       "      <td>Tempio Malatestiano, Rimini</td>\n",
       "      <td>sculpture</td>\n",
       "      <td>religious</td>\n",
       "      <td>Italian</td>\n",
       "      <td>1451-1500</td>\n",
       "      <td>The picture shows the relief depicting Saturn.</td>\n",
       "    </tr>\n",
       "    <tr>\n",
       "      <th>208</th>\n",
       "      <td>https://www.wga.hu/detail/a/agostin/1rimini/5z...</td>\n",
       "      <td>['\\r\\nThe picture shows the relief depicting M...</td>\n",
       "      <td>AGOSTINO DI DUCCIO</td>\n",
       "      <td>(b. 1418, Firenze, d. 1481, Perugia)</td>\n",
       "      <td>Cappella dei Pianeti (detail)</td>\n",
       "      <td>1449-56</td>\n",
       "      <td>Photo</td>\n",
       "      <td>Tempio Malatestiano, Rimini</td>\n",
       "      <td>sculpture</td>\n",
       "      <td>religious</td>\n",
       "      <td>Italian</td>\n",
       "      <td>1451-1500</td>\n",
       "      <td>The picture shows the relief depicting Mercury.</td>\n",
       "    </tr>\n",
       "    <tr>\n",
       "      <th>213</th>\n",
       "      <td>https://www.wga.hu/detail/a/agostin/1rimini/5z...</td>\n",
       "      <td>['\\r\\nThe picture shows the sign of Libra.\\r\\n...</td>\n",
       "      <td>AGOSTINO DI DUCCIO</td>\n",
       "      <td>(b. 1418, Firenze, d. 1481, Perugia)</td>\n",
       "      <td>Cappella dei Pianeti (detail)</td>\n",
       "      <td>1449-56</td>\n",
       "      <td>Photo</td>\n",
       "      <td>Tempio Malatestiano, Rimini</td>\n",
       "      <td>sculpture</td>\n",
       "      <td>religious</td>\n",
       "      <td>Italian</td>\n",
       "      <td>1451-1500</td>\n",
       "      <td>The picture shows the sign of Libra.</td>\n",
       "    </tr>\n",
       "  </tbody>\n",
       "</table>\n",
       "</div>"
      ],
      "text/plain": [
       "                                                 image  \\\n",
       "22     https://www.wga.hu/detail/a/abadie/sacreco3.jpg   \n",
       "51   https://www.wga.hu/detail/a/abildgaa/culmingh.jpg   \n",
       "206  https://www.wga.hu/detail/a/agostin/1rimini/5z...   \n",
       "208  https://www.wga.hu/detail/a/agostin/1rimini/5z...   \n",
       "213  https://www.wga.hu/detail/a/agostin/1rimini/5z...   \n",
       "\n",
       "                                           description               AUTHOR  \\\n",
       "22   ['\\r\\nThe photo shows the cupola from inside.\\...         ABADIE, Paul   \n",
       "51   ['\\r\\nThe subject is taken from the Songs of O...  ABILDGAARD, Nicolai   \n",
       "206  ['\\r\\nThe picture shows the relief depicting S...   AGOSTINO DI DUCCIO   \n",
       "208  ['\\r\\nThe picture shows the relief depicting M...   AGOSTINO DI DUCCIO   \n",
       "213  ['\\r\\nThe picture shows the sign of Libra.\\r\\n...   AGOSTINO DI DUCCIO   \n",
       "\n",
       "                                       BORN-DIED  \\\n",
       "22             (b. 1812, Paris, d. 1884, Chatou)   \n",
       "51   (b. 1743, København, d. 1809, Frederiksdal)   \n",
       "206         (b. 1418, Firenze, d. 1481, Perugia)   \n",
       "208         (b. 1418, Firenze, d. 1481, Perugia)   \n",
       "213         (b. 1418, Firenze, d. 1481, Perugia)   \n",
       "\n",
       "                                    TITLE       DATE  \\\n",
       "22                          Interior view  1875-1919   \n",
       "51   Culmin's Ghost Appears to his Mother    c. 1794   \n",
       "206         Cappella dei Pianeti (detail)    1449-56   \n",
       "208         Cappella dei Pianeti (detail)    1449-56   \n",
       "213         Cappella dei Pianeti (detail)    1449-56   \n",
       "\n",
       "                     TECHNIQUE                     LOCATION          FORM  \\\n",
       "22                       Photo           Sacré-Coeur, Paris  architecture   \n",
       "51   Oil on canvas, 62 x 78 cm    Nationalmuseum, Stockholm      painting   \n",
       "206                      Photo  Tempio Malatestiano, Rimini     sculpture   \n",
       "208                      Photo  Tempio Malatestiano, Rimini     sculpture   \n",
       "213                      Photo  Tempio Malatestiano, Rimini     sculpture   \n",
       "\n",
       "          TYPE   SCHOOL  TIMEFRAME  \\\n",
       "22   religious   French  1851-1900   \n",
       "51       other   Danish  1751-1800   \n",
       "206  religious  Italian  1451-1500   \n",
       "208  religious  Italian  1451-1500   \n",
       "213  religious  Italian  1451-1500   \n",
       "\n",
       "                                             removed  \n",
       "22           The photo shows the cupola from inside.  \n",
       "51    The subject is taken from the Songs of Ossian.  \n",
       "206   The picture shows the relief depicting Saturn.  \n",
       "208  The picture shows the relief depicting Mercury.  \n",
       "213             The picture shows the sign of Libra.  "
      ]
     },
     "execution_count": 4,
     "metadata": {},
     "output_type": "execute_result"
    }
   ],
   "source": [
    "small_df.head()"
   ]
  },
  {
   "cell_type": "code",
   "execution_count": 5,
   "metadata": {},
   "outputs": [
    {
     "data": {
      "text/plain": [
       "22                The photo shows the cupola from inside.\n",
       "51         The subject is taken from the Songs of Ossian.\n",
       "206        The picture shows the relief depicting Saturn.\n",
       "208       The picture shows the relief depicting Mercury.\n",
       "213                  The picture shows the sign of Libra.\n",
       "                               ...                       \n",
       "44601         The picture shows the Queen's Drawing Room.\n",
       "44697        This figure is signed and dated on the base.\n",
       "44814    This detail shows Ceres, Mercury and Persephone.\n",
       "44815           This detail shows Bacchus and other gods.\n",
       "44858           The painting is signed lower right: Ziem.\n",
       "Name: removed, Length: 936, dtype: object"
      ]
     },
     "execution_count": 5,
     "metadata": {},
     "output_type": "execute_result"
    }
   ],
   "source": [
    "small_df['removed']"
   ]
  },
  {
   "cell_type": "code",
   "execution_count": 6,
   "metadata": {},
   "outputs": [
    {
     "data": {
      "text/plain": [
       "(936, 13)"
      ]
     },
     "execution_count": 6,
     "metadata": {},
     "output_type": "execute_result"
    }
   ],
   "source": [
    "small_df.shape"
   ]
  },
  {
   "cell_type": "code",
   "execution_count": 7,
   "metadata": {},
   "outputs": [],
   "source": [
    "import urllib.request"
   ]
  },
  {
   "cell_type": "code",
   "execution_count": 14,
   "metadata": {},
   "outputs": [
    {
     "data": {
      "text/plain": [
       "<_io.TextIOWrapper name='/media/hyunwook/My Passport/UBUNTU FOLDER/Art Captioning/Pictures/small_wga/test.txt' mode='r' encoding='UTF-8'>"
      ]
     },
     "execution_count": 14,
     "metadata": {},
     "output_type": "execute_result"
    }
   ],
   "source": [
    "temp = open('/media/hyunwook/My Passport/UBUNTU FOLDER/Art Captioning/Pictures/small_wga/test.txt', 'r')\n",
    "temp"
   ]
  },
  {
   "cell_type": "code",
   "execution_count": 19,
   "metadata": {},
   "outputs": [
    {
     "name": "stdout",
     "output_type": "stream",
     "text": [
      "https://www.wga.hu/detail/a/abadie/sacreco3.jpg\n"
     ]
    },
    {
     "ename": "OSError",
     "evalue": "[Errno 5] Input/output error: '/media/hyunwook/My Passport/UBUNTU FOLDER/Art Captioning/Pictures/small_wga/22.jpg'",
     "output_type": "error",
     "traceback": [
      "\u001b[0;31m---------------------------------------------------------------------------\u001b[0m",
      "\u001b[0;31mOSError\u001b[0m                                   Traceback (most recent call last)",
      "\u001b[0;32m/tmp/ipykernel_6684/2454952549.py\u001b[0m in \u001b[0;36m<module>\u001b[0;34m\u001b[0m\n\u001b[1;32m      2\u001b[0m     \u001b[0murl\u001b[0m \u001b[0;34m=\u001b[0m \u001b[0mi\u001b[0m\u001b[0;34m[\u001b[0m\u001b[0;36m1\u001b[0m\u001b[0;34m]\u001b[0m\u001b[0;34m[\u001b[0m\u001b[0;34m'image'\u001b[0m\u001b[0;34m]\u001b[0m\u001b[0;34m\u001b[0m\u001b[0;34m\u001b[0m\u001b[0m\n\u001b[1;32m      3\u001b[0m     \u001b[0mprint\u001b[0m\u001b[0;34m(\u001b[0m\u001b[0murl\u001b[0m\u001b[0;34m)\u001b[0m\u001b[0;34m\u001b[0m\u001b[0;34m\u001b[0m\u001b[0m\n\u001b[0;32m----> 4\u001b[0;31m     \u001b[0murllib\u001b[0m\u001b[0;34m.\u001b[0m\u001b[0mrequest\u001b[0m\u001b[0;34m.\u001b[0m\u001b[0murlretrieve\u001b[0m\u001b[0;34m(\u001b[0m\u001b[0murl\u001b[0m\u001b[0;34m,\u001b[0m \u001b[0;34m'/media/hyunwook/My Passport/UBUNTU FOLDER/Art Captioning/Pictures/small_wga/'\u001b[0m\u001b[0;34m+\u001b[0m\u001b[0mstr\u001b[0m\u001b[0;34m(\u001b[0m\u001b[0mi\u001b[0m\u001b[0;34m[\u001b[0m\u001b[0;36m0\u001b[0m\u001b[0;34m]\u001b[0m\u001b[0;34m)\u001b[0m\u001b[0;34m+\u001b[0m\u001b[0;34m'.jpg'\u001b[0m\u001b[0;34m)\u001b[0m\u001b[0;34m\u001b[0m\u001b[0;34m\u001b[0m\u001b[0m\n\u001b[0m",
      "\u001b[0;32m~/anaconda3/lib/python3.9/urllib/request.py\u001b[0m in \u001b[0;36murlretrieve\u001b[0;34m(url, filename, reporthook, data)\u001b[0m\n\u001b[1;32m    247\u001b[0m         \u001b[0;31m# Handle temporary file setup.\u001b[0m\u001b[0;34m\u001b[0m\u001b[0;34m\u001b[0m\u001b[0m\n\u001b[1;32m    248\u001b[0m         \u001b[0;32mif\u001b[0m \u001b[0mfilename\u001b[0m\u001b[0;34m:\u001b[0m\u001b[0;34m\u001b[0m\u001b[0;34m\u001b[0m\u001b[0m\n\u001b[0;32m--> 249\u001b[0;31m             \u001b[0mtfp\u001b[0m \u001b[0;34m=\u001b[0m \u001b[0mopen\u001b[0m\u001b[0;34m(\u001b[0m\u001b[0mfilename\u001b[0m\u001b[0;34m,\u001b[0m \u001b[0;34m'wb'\u001b[0m\u001b[0;34m)\u001b[0m\u001b[0;34m\u001b[0m\u001b[0;34m\u001b[0m\u001b[0m\n\u001b[0m\u001b[1;32m    250\u001b[0m         \u001b[0;32melse\u001b[0m\u001b[0;34m:\u001b[0m\u001b[0;34m\u001b[0m\u001b[0;34m\u001b[0m\u001b[0m\n\u001b[1;32m    251\u001b[0m             \u001b[0mtfp\u001b[0m \u001b[0;34m=\u001b[0m \u001b[0mtempfile\u001b[0m\u001b[0;34m.\u001b[0m\u001b[0mNamedTemporaryFile\u001b[0m\u001b[0;34m(\u001b[0m\u001b[0mdelete\u001b[0m\u001b[0;34m=\u001b[0m\u001b[0;32mFalse\u001b[0m\u001b[0;34m)\u001b[0m\u001b[0;34m\u001b[0m\u001b[0;34m\u001b[0m\u001b[0m\n",
      "\u001b[0;31mOSError\u001b[0m: [Errno 5] Input/output error: '/media/hyunwook/My Passport/UBUNTU FOLDER/Art Captioning/Pictures/small_wga/22.jpg'"
     ]
    }
   ],
   "source": [
    "for i in small_df.iterrows():\n",
    "    url = i[1]['image']\n",
    "    print(url)\n",
    "    urllib.request.urlretrieve(url, '/media/hyunwook/My Passport/UBUNTU FOLDER/Art Captioning/Pictures/small_wga/'+str(i[0])+'.jpg')"
   ]
  },
  {
   "cell_type": "markdown",
   "metadata": {},
   "source": []
  },
  {
   "cell_type": "markdown",
   "metadata": {},
   "source": []
  }
 ],
 "metadata": {
  "interpreter": {
   "hash": "f4275cbb966fad0ad13f4947ab60e9af3145ed96e46c7ad2a706fb187f83e820"
  },
  "kernelspec": {
   "display_name": "Python 3.9.7 ('base')",
   "language": "python",
   "name": "python3"
  },
  "language_info": {
   "codemirror_mode": {
    "name": "ipython",
    "version": 3
   },
   "file_extension": ".py",
   "mimetype": "text/x-python",
   "name": "python",
   "nbconvert_exporter": "python",
   "pygments_lexer": "ipython3",
   "version": "3.9.7"
  },
  "orig_nbformat": 4
 },
 "nbformat": 4,
 "nbformat_minor": 2
}
