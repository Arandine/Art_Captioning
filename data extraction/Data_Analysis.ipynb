{
 "cells": [
  {
   "cell_type": "code",
   "execution_count": 1,
   "metadata": {},
   "outputs": [],
   "source": [
    "import pandas as pd"
   ]
  },
  {
   "cell_type": "code",
   "execution_count": 2,
   "metadata": {},
   "outputs": [],
   "source": [
    "dataset = pd.read_csv(\"raw_data.csv\")"
   ]
  },
  {
   "cell_type": "code",
   "execution_count": 3,
   "metadata": {},
   "outputs": [
    {
     "data": {
      "text/plain": [
       "(52867, 3)"
      ]
     },
     "execution_count": 3,
     "metadata": {},
     "output_type": "execute_result"
    }
   ],
   "source": [
    "dataset.shape"
   ]
  },
  {
   "cell_type": "code",
   "execution_count": 4,
   "metadata": {},
   "outputs": [
    {
     "data": {
      "text/plain": [
       "Index(['Unnamed: 0', '0', '1'], dtype='object')"
      ]
     },
     "execution_count": 4,
     "metadata": {},
     "output_type": "execute_result"
    }
   ],
   "source": [
    "dataset.columns"
   ]
  },
  {
   "cell_type": "code",
   "execution_count": 5,
   "metadata": {},
   "outputs": [],
   "source": [
    "dataset = dataset.drop(['Unnamed: 0'], axis = 1)"
   ]
  },
  {
   "cell_type": "code",
   "execution_count": 6,
   "metadata": {},
   "outputs": [],
   "source": [
    "dataset.rename(columns = {'0': 'image', '1': 'description'}, inplace = True)"
   ]
  },
  {
   "cell_type": "code",
   "execution_count": 7,
   "metadata": {},
   "outputs": [
    {
     "data": {
      "text/html": [
       "<div>\n",
       "<style scoped>\n",
       "    .dataframe tbody tr th:only-of-type {\n",
       "        vertical-align: middle;\n",
       "    }\n",
       "\n",
       "    .dataframe tbody tr th {\n",
       "        vertical-align: top;\n",
       "    }\n",
       "\n",
       "    .dataframe thead th {\n",
       "        text-align: right;\n",
       "    }\n",
       "</style>\n",
       "<table border=\"1\" class=\"dataframe\">\n",
       "  <thead>\n",
       "    <tr style=\"text-align: right;\">\n",
       "      <th></th>\n",
       "      <th>image</th>\n",
       "      <th>description</th>\n",
       "    </tr>\n",
       "  </thead>\n",
       "  <tbody>\n",
       "    <tr>\n",
       "      <th>0</th>\n",
       "      <td>https://www.wga.hu/detail/a/aachen/adonis.jpg</td>\n",
       "      <td>['\\n\\n']</td>\n",
       "    </tr>\n",
       "    <tr>\n",
       "      <th>1</th>\n",
       "      <td>https://www.wga.hu/detail/a/aachen/allegory.jpg</td>\n",
       "      <td>['\\r\\nThe painting, displaying the characteris...</td>\n",
       "    </tr>\n",
       "    <tr>\n",
       "      <th>2</th>\n",
       "      <td>https://www.wga.hu/detail/a/aachen/allegorz.jpg</td>\n",
       "      <td>[\"\\r\\nThe allegorical painting in the Hermitag...</td>\n",
       "    </tr>\n",
       "    <tr>\n",
       "      <th>3</th>\n",
       "      <td>https://www.wga.hu/detail/a/aachen/antiope.jpg</td>\n",
       "      <td>['\\n\\n']</td>\n",
       "    </tr>\n",
       "    <tr>\n",
       "      <th>4</th>\n",
       "      <td>https://www.wga.hu/detail/a/aachen/athena.jpg</td>\n",
       "      <td>['\\n\\n']</td>\n",
       "    </tr>\n",
       "  </tbody>\n",
       "</table>\n",
       "</div>"
      ],
      "text/plain": [
       "                                             image  \\\n",
       "0    https://www.wga.hu/detail/a/aachen/adonis.jpg   \n",
       "1  https://www.wga.hu/detail/a/aachen/allegory.jpg   \n",
       "2  https://www.wga.hu/detail/a/aachen/allegorz.jpg   \n",
       "3   https://www.wga.hu/detail/a/aachen/antiope.jpg   \n",
       "4    https://www.wga.hu/detail/a/aachen/athena.jpg   \n",
       "\n",
       "                                         description  \n",
       "0                                           ['\\n\\n']  \n",
       "1  ['\\r\\nThe painting, displaying the characteris...  \n",
       "2  [\"\\r\\nThe allegorical painting in the Hermitag...  \n",
       "3                                           ['\\n\\n']  \n",
       "4                                           ['\\n\\n']  "
      ]
     },
     "execution_count": 7,
     "metadata": {},
     "output_type": "execute_result"
    }
   ],
   "source": [
    "dataset.head()"
   ]
  },
  {
   "cell_type": "code",
   "execution_count": 8,
   "metadata": {},
   "outputs": [],
   "source": [
    "repl = []"
   ]
  },
  {
   "cell_type": "code",
   "execution_count": 9,
   "metadata": {},
   "outputs": [],
   "source": [
    "for i in dataset.index:\n",
    "    a = dataset.loc[i,'description'].replace('[', '')\n",
    "    a = a.replace(']', '')\n",
    "    a = a.replace(\"\\\\\\\\r\\\\\\\\n\", \" \")\n",
    "    a = a.replace('\\\\r', '')\n",
    "    a = a.replace('\\\\n', '')\n",
    "    a = a.replace(\"\\\\\", \"\")\n",
    "    a = a.strip(\"'\")\n",
    "    a = a.replace('\"', '')\n",
    "    a = a.replace(\". ,\", \". \")\n",
    "    repl.append(a)"
   ]
  },
  {
   "cell_type": "code",
   "execution_count": 10,
   "metadata": {},
   "outputs": [],
   "source": [
    "dataset['removed'] = repl"
   ]
  },
  {
   "cell_type": "code",
   "execution_count": 11,
   "metadata": {},
   "outputs": [
    {
     "data": {
      "text/plain": [
       "['',\n",
       " 'The painting, displaying the characteristic Mannerist style of the artist, is also known as The Triumph of Justice.',\n",
       " \"The allegorical painting in the Hermitage is a characteristic work by Hans von Aachen, who was himself a typical representative of the distinctive cosmopolitan school that formed at the turn of the 17th century at the court of Holy Roman Emperor Rudolf II in Prague. The three female figures embody Peace (with an olive branch), Science and the Liberal Arts (with a sphere and a palette) and Abundance (with a goblet and a horn of plenty). The subject was intended to symbolically extols the Emperor's peaceful policies that led to prosperity and the flourishing of learning and the arts. The allegorical, encoded content, the unstable composition with movement along the diagonal, the aristocratic elongation of the figure, the cold tone of the picture, elements of eroticism and disturbing lighting are all features of the Rudolfine artistic circle that eclectically combined features of Italian and Low Countries Mannerism.\"]"
      ]
     },
     "execution_count": 11,
     "metadata": {},
     "output_type": "execute_result"
    }
   ],
   "source": [
    "repl[0:3]"
   ]
  },
  {
   "cell_type": "code",
   "execution_count": 12,
   "metadata": {},
   "outputs": [
    {
     "data": {
      "text/plain": [
       "\"Gaspar Rem (1542-c. 1616) was a Flemish painter. Hans von Aachen travelled to Italy c. 1574, first working in Venice as a copyist and for the painter Gaspar Rem, before going in 1575 to Rome, where he copied antique sculptures and the works of Italian masters.Von Aachen's portraits are remarkable for their psychological sensitivity. One of the earliest, of his teacher in Venice Gaspar Rem, clearly shows the influence of Venetian portrait painting (e.g. Jacopo Bassano).  Von Aachen's portraits are remarkable for their psychological sensitivity. One of the earliest, of his teacher in Venice Gaspar Rem, clearly shows the influence of Venetian portrait painting (e.g. Jacopo Bassano). \""
      ]
     },
     "execution_count": 12,
     "metadata": {},
     "output_type": "execute_result"
    }
   ],
   "source": [
    "repl[12]"
   ]
  },
  {
   "cell_type": "code",
   "execution_count": 13,
   "metadata": {},
   "outputs": [
    {
     "data": {
      "text/plain": [
       "'[\"\\\\r\\\\nGaspar Rem (1542-c. 1616) was a Flemish painter. Hans von Aachen travelled to Italy c. 1574, first working in Venice as a copyist and for the painter Gaspar Rem, before going in 1575 to Rome, where he copied antique sculptures and the works of Italian masters.\\\\r\\\\nVon Aachen\\'s portraits are remarkable for their psychological sensitivity. One of the earliest, of his teacher in Venice Gaspar Rem, clearly shows the influence of Venetian portrait painting (e.g. Jacopo Bassano). \\\\r\\\\n\\\\r\\\\n\\\\n\", \"\\\\r\\\\nVon Aachen\\'s portraits are remarkable for their psychological sensitivity. One of the earliest, of his teacher in Venice Gaspar Rem, clearly shows the influence of Venetian portrait painting (e.g. Jacopo Bassano). \\\\r\\\\n\\\\r\\\\n\\\\n\"]'"
      ]
     },
     "execution_count": 13,
     "metadata": {},
     "output_type": "execute_result"
    }
   ],
   "source": [
    "dataset.loc[12, 'description']"
   ]
  },
  {
   "cell_type": "code",
   "execution_count": 14,
   "metadata": {},
   "outputs": [
    {
     "data": {
      "text/html": [
       "<div>\n",
       "<style scoped>\n",
       "    .dataframe tbody tr th:only-of-type {\n",
       "        vertical-align: middle;\n",
       "    }\n",
       "\n",
       "    .dataframe tbody tr th {\n",
       "        vertical-align: top;\n",
       "    }\n",
       "\n",
       "    .dataframe thead th {\n",
       "        text-align: right;\n",
       "    }\n",
       "</style>\n",
       "<table border=\"1\" class=\"dataframe\">\n",
       "  <thead>\n",
       "    <tr style=\"text-align: right;\">\n",
       "      <th></th>\n",
       "      <th>image</th>\n",
       "      <th>description</th>\n",
       "      <th>removed</th>\n",
       "    </tr>\n",
       "  </thead>\n",
       "  <tbody>\n",
       "    <tr>\n",
       "      <th>0</th>\n",
       "      <td>https://www.wga.hu/detail/a/aachen/adonis.jpg</td>\n",
       "      <td>['\\n\\n']</td>\n",
       "      <td></td>\n",
       "    </tr>\n",
       "    <tr>\n",
       "      <th>1</th>\n",
       "      <td>https://www.wga.hu/detail/a/aachen/allegory.jpg</td>\n",
       "      <td>['\\r\\nThe painting, displaying the characteris...</td>\n",
       "      <td>The painting, displaying the characteristic Ma...</td>\n",
       "    </tr>\n",
       "    <tr>\n",
       "      <th>2</th>\n",
       "      <td>https://www.wga.hu/detail/a/aachen/allegorz.jpg</td>\n",
       "      <td>[\"\\r\\nThe allegorical painting in the Hermitag...</td>\n",
       "      <td>The allegorical painting in the Hermitage is a...</td>\n",
       "    </tr>\n",
       "    <tr>\n",
       "      <th>3</th>\n",
       "      <td>https://www.wga.hu/detail/a/aachen/antiope.jpg</td>\n",
       "      <td>['\\n\\n']</td>\n",
       "      <td></td>\n",
       "    </tr>\n",
       "    <tr>\n",
       "      <th>4</th>\n",
       "      <td>https://www.wga.hu/detail/a/aachen/athena.jpg</td>\n",
       "      <td>['\\n\\n']</td>\n",
       "      <td></td>\n",
       "    </tr>\n",
       "  </tbody>\n",
       "</table>\n",
       "</div>"
      ],
      "text/plain": [
       "                                             image  \\\n",
       "0    https://www.wga.hu/detail/a/aachen/adonis.jpg   \n",
       "1  https://www.wga.hu/detail/a/aachen/allegory.jpg   \n",
       "2  https://www.wga.hu/detail/a/aachen/allegorz.jpg   \n",
       "3   https://www.wga.hu/detail/a/aachen/antiope.jpg   \n",
       "4    https://www.wga.hu/detail/a/aachen/athena.jpg   \n",
       "\n",
       "                                         description  \\\n",
       "0                                           ['\\n\\n']   \n",
       "1  ['\\r\\nThe painting, displaying the characteris...   \n",
       "2  [\"\\r\\nThe allegorical painting in the Hermitag...   \n",
       "3                                           ['\\n\\n']   \n",
       "4                                           ['\\n\\n']   \n",
       "\n",
       "                                             removed  \n",
       "0                                                     \n",
       "1  The painting, displaying the characteristic Ma...  \n",
       "2  The allegorical painting in the Hermitage is a...  \n",
       "3                                                     \n",
       "4                                                     "
      ]
     },
     "execution_count": 14,
     "metadata": {},
     "output_type": "execute_result"
    }
   ],
   "source": [
    "dataset.head()"
   ]
  },
  {
   "cell_type": "code",
   "execution_count": 15,
   "metadata": {},
   "outputs": [],
   "source": [
    "lengths = {0: 0}"
   ]
  },
  {
   "cell_type": "code",
   "execution_count": 16,
   "metadata": {},
   "outputs": [],
   "source": [
    "for i, str in enumerate(dataset['removed']):\n",
    "    if(str == ''):\n",
    "        lengths[0]+=1\n",
    "    else:\n",
    "        leng = len(str)\n",
    "        if leng in lengths:\n",
    "            lengths[leng]+=1\n",
    "        else:\n",
    "            lengths[leng] = 0"
   ]
  },
  {
   "cell_type": "code",
   "execution_count": 17,
   "metadata": {},
   "outputs": [],
   "source": [
    "lengths = sorted(lengths.items())"
   ]
  },
  {
   "cell_type": "code",
   "execution_count": 18,
   "metadata": {},
   "outputs": [],
   "source": [
    "under_50 = 0\n",
    "over_50 = 0\n",
    "zero = 0\n",
    "threshold = 500\n",
    "\n",
    "for i in lengths:\n",
    "    if(i[0] == 0):\n",
    "        zero += i[1]\n",
    "    elif(i[0] <= threshold):\n",
    "        under_50 += i[1]\n",
    "    else:\n",
    "        over_50 += i[1]\n"
   ]
  },
  {
   "cell_type": "code",
   "execution_count": 19,
   "metadata": {},
   "outputs": [
    {
     "name": "stdout",
     "output_type": "stream",
     "text": [
      "7863\n",
      "23395\n",
      "16973\n"
     ]
    }
   ],
   "source": [
    "print(zero)\n",
    "print(under_50)\n",
    "print(over_50)"
   ]
  },
  {
   "cell_type": "code",
   "execution_count": 21,
   "metadata": {},
   "outputs": [],
   "source": [
    "dataset.to_csv('refined_dataset.csv')"
   ]
  },
  {
   "cell_type": "markdown",
   "metadata": {},
   "source": []
  },
  {
   "cell_type": "markdown",
   "metadata": {},
   "source": []
  }
 ],
 "metadata": {
  "interpreter": {
   "hash": "f4275cbb966fad0ad13f4947ab60e9af3145ed96e46c7ad2a706fb187f83e820"
  },
  "kernelspec": {
   "display_name": "Python 3.9.7 ('base')",
   "language": "python",
   "name": "python3"
  },
  "language_info": {
   "codemirror_mode": {
    "name": "ipython",
    "version": 3
   },
   "file_extension": ".py",
   "mimetype": "text/x-python",
   "name": "python",
   "nbconvert_exporter": "python",
   "pygments_lexer": "ipython3",
   "version": "3.9.7"
  },
  "orig_nbformat": 4
 },
 "nbformat": 4,
 "nbformat_minor": 2
}
