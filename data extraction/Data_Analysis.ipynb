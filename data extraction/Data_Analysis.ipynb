{
 "cells": [
  {
   "cell_type": "code",
   "execution_count": 2,
   "metadata": {},
   "outputs": [],
   "source": [
    "import pandas as pd"
   ]
  },
  {
   "cell_type": "code",
   "execution_count": 3,
   "metadata": {},
   "outputs": [],
   "source": [
    "dataset = pd.read_csv(\"raw_data.csv\")\n",
    "tempdf = pd.read_excel(\"/home/hyunwook/Desktop/Python/Art Project - Captioning/data extraction/catalog.xlsx\")\n",
    "dataset = pd.concat([dataset, tempdf], axis = 1)"
   ]
  },
  {
   "cell_type": "code",
   "execution_count": 4,
   "metadata": {},
   "outputs": [
    {
     "data": {
      "text/plain": [
       "(52867, 11)"
      ]
     },
     "execution_count": 4,
     "metadata": {},
     "output_type": "execute_result"
    }
   ],
   "source": [
    "tempdf.shape"
   ]
  },
  {
   "cell_type": "code",
   "execution_count": 5,
   "metadata": {},
   "outputs": [
    {
     "data": {
      "text/plain": [
       "(52867, 14)"
      ]
     },
     "execution_count": 5,
     "metadata": {},
     "output_type": "execute_result"
    }
   ],
   "source": [
    "dataset.shape"
   ]
  },
  {
   "cell_type": "code",
   "execution_count": 6,
   "metadata": {},
   "outputs": [
    {
     "data": {
      "text/plain": [
       "(52867, 14)"
      ]
     },
     "execution_count": 6,
     "metadata": {},
     "output_type": "execute_result"
    }
   ],
   "source": [
    "dataset.shape"
   ]
  },
  {
   "cell_type": "code",
   "execution_count": 7,
   "metadata": {},
   "outputs": [
    {
     "data": {
      "text/plain": [
       "Index(['Unnamed: 0', '0', '1', 'AUTHOR', 'BORN-DIED', 'TITLE', 'DATE',\n",
       "       'TECHNIQUE', 'LOCATION', 'URL', 'FORM', 'TYPE', 'SCHOOL', 'TIMEFRAME'],\n",
       "      dtype='object')"
      ]
     },
     "execution_count": 7,
     "metadata": {},
     "output_type": "execute_result"
    }
   ],
   "source": [
    "dataset.columns"
   ]
  },
  {
   "cell_type": "code",
   "execution_count": 8,
   "metadata": {},
   "outputs": [],
   "source": [
    "dataset = dataset.drop(['Unnamed: 0', 'URL'], axis = 1)"
   ]
  },
  {
   "cell_type": "code",
   "execution_count": 9,
   "metadata": {},
   "outputs": [],
   "source": [
    "dataset.rename(columns = {'0': 'image', '1': 'description'}, inplace = True)"
   ]
  },
  {
   "cell_type": "code",
   "execution_count": 10,
   "metadata": {},
   "outputs": [
    {
     "data": {
      "text/plain": [
       "(52867, 12)"
      ]
     },
     "execution_count": 10,
     "metadata": {},
     "output_type": "execute_result"
    }
   ],
   "source": [
    "dataset.shape"
   ]
  },
  {
   "cell_type": "code",
   "execution_count": 11,
   "metadata": {},
   "outputs": [
    {
     "data": {
      "text/html": [
       "<div>\n",
       "<style scoped>\n",
       "    .dataframe tbody tr th:only-of-type {\n",
       "        vertical-align: middle;\n",
       "    }\n",
       "\n",
       "    .dataframe tbody tr th {\n",
       "        vertical-align: top;\n",
       "    }\n",
       "\n",
       "    .dataframe thead th {\n",
       "        text-align: right;\n",
       "    }\n",
       "</style>\n",
       "<table border=\"1\" class=\"dataframe\">\n",
       "  <thead>\n",
       "    <tr style=\"text-align: right;\">\n",
       "      <th></th>\n",
       "      <th>image</th>\n",
       "      <th>description</th>\n",
       "      <th>AUTHOR</th>\n",
       "      <th>BORN-DIED</th>\n",
       "      <th>TITLE</th>\n",
       "      <th>DATE</th>\n",
       "      <th>TECHNIQUE</th>\n",
       "      <th>LOCATION</th>\n",
       "      <th>FORM</th>\n",
       "      <th>TYPE</th>\n",
       "      <th>SCHOOL</th>\n",
       "      <th>TIMEFRAME</th>\n",
       "    </tr>\n",
       "  </thead>\n",
       "  <tbody>\n",
       "    <tr>\n",
       "      <th>0</th>\n",
       "      <td>https://www.wga.hu/detail/a/aachen/adonis.jpg</td>\n",
       "      <td>['\\n\\n']</td>\n",
       "      <td>AACHEN, Hans von</td>\n",
       "      <td>(b. 1552, Köln, d. 1615, Praha)</td>\n",
       "      <td>Venus and Adonis</td>\n",
       "      <td>1574-88</td>\n",
       "      <td>Oil on canvas, 68 x 95 cm</td>\n",
       "      <td>Fogg Art Museum, Harvard University, Cambridge</td>\n",
       "      <td>painting</td>\n",
       "      <td>mythological</td>\n",
       "      <td>German</td>\n",
       "      <td>1601-1650</td>\n",
       "    </tr>\n",
       "    <tr>\n",
       "      <th>1</th>\n",
       "      <td>https://www.wga.hu/detail/a/aachen/allegory.jpg</td>\n",
       "      <td>['\\r\\nThe painting, displaying the characteris...</td>\n",
       "      <td>AACHEN, Hans von</td>\n",
       "      <td>(b. 1552, Köln, d. 1615, Praha)</td>\n",
       "      <td>Allegory</td>\n",
       "      <td>1598</td>\n",
       "      <td>Oil on copper, 56 x 47 cm</td>\n",
       "      <td>Alte Pinakothek, Munich</td>\n",
       "      <td>painting</td>\n",
       "      <td>mythological</td>\n",
       "      <td>German</td>\n",
       "      <td>1601-1650</td>\n",
       "    </tr>\n",
       "    <tr>\n",
       "      <th>2</th>\n",
       "      <td>https://www.wga.hu/detail/a/aachen/allegorz.jpg</td>\n",
       "      <td>[\"\\r\\nThe allegorical painting in the Hermitag...</td>\n",
       "      <td>AACHEN, Hans von</td>\n",
       "      <td>(b. 1552, Köln, d. 1615, Praha)</td>\n",
       "      <td>Allegory of Peace, Art and Abundance</td>\n",
       "      <td>1602</td>\n",
       "      <td>Oil on canvas, 197 x 142 cm</td>\n",
       "      <td>The Hermitage, St. Petersburg</td>\n",
       "      <td>painting</td>\n",
       "      <td>mythological</td>\n",
       "      <td>German</td>\n",
       "      <td>1601-1650</td>\n",
       "    </tr>\n",
       "    <tr>\n",
       "      <th>3</th>\n",
       "      <td>https://www.wga.hu/detail/a/aachen/antiope.jpg</td>\n",
       "      <td>['\\n\\n']</td>\n",
       "      <td>AACHEN, Hans von</td>\n",
       "      <td>(b. 1552, Köln, d. 1615, Praha)</td>\n",
       "      <td>Jupiter, Antiope and Cupid</td>\n",
       "      <td>1595-98</td>\n",
       "      <td>Oil on copper, 31 x 21 cm</td>\n",
       "      <td>Kunsthistorisches Museum, Vienna</td>\n",
       "      <td>painting</td>\n",
       "      <td>mythological</td>\n",
       "      <td>German</td>\n",
       "      <td>1601-1650</td>\n",
       "    </tr>\n",
       "    <tr>\n",
       "      <th>4</th>\n",
       "      <td>https://www.wga.hu/detail/a/aachen/athena.jpg</td>\n",
       "      <td>['\\n\\n']</td>\n",
       "      <td>AACHEN, Hans von</td>\n",
       "      <td>(b. 1552, Köln, d. 1615, Praha)</td>\n",
       "      <td>Pallas Athena, Venus and Juno</td>\n",
       "      <td>1593</td>\n",
       "      <td>Oil on canvas, 54 x 67 cm</td>\n",
       "      <td>Museum of Fine Arts, Boston</td>\n",
       "      <td>painting</td>\n",
       "      <td>mythological</td>\n",
       "      <td>German</td>\n",
       "      <td>1601-1650</td>\n",
       "    </tr>\n",
       "  </tbody>\n",
       "</table>\n",
       "</div>"
      ],
      "text/plain": [
       "                                             image  \\\n",
       "0    https://www.wga.hu/detail/a/aachen/adonis.jpg   \n",
       "1  https://www.wga.hu/detail/a/aachen/allegory.jpg   \n",
       "2  https://www.wga.hu/detail/a/aachen/allegorz.jpg   \n",
       "3   https://www.wga.hu/detail/a/aachen/antiope.jpg   \n",
       "4    https://www.wga.hu/detail/a/aachen/athena.jpg   \n",
       "\n",
       "                                         description            AUTHOR  \\\n",
       "0                                           ['\\n\\n']  AACHEN, Hans von   \n",
       "1  ['\\r\\nThe painting, displaying the characteris...  AACHEN, Hans von   \n",
       "2  [\"\\r\\nThe allegorical painting in the Hermitag...  AACHEN, Hans von   \n",
       "3                                           ['\\n\\n']  AACHEN, Hans von   \n",
       "4                                           ['\\n\\n']  AACHEN, Hans von   \n",
       "\n",
       "                         BORN-DIED                                 TITLE  \\\n",
       "0  (b. 1552, Köln, d. 1615, Praha)                      Venus and Adonis   \n",
       "1  (b. 1552, Köln, d. 1615, Praha)                              Allegory   \n",
       "2  (b. 1552, Köln, d. 1615, Praha)  Allegory of Peace, Art and Abundance   \n",
       "3  (b. 1552, Köln, d. 1615, Praha)            Jupiter, Antiope and Cupid   \n",
       "4  (b. 1552, Köln, d. 1615, Praha)         Pallas Athena, Venus and Juno   \n",
       "\n",
       "      DATE                    TECHNIQUE  \\\n",
       "0  1574-88    Oil on canvas, 68 x 95 cm   \n",
       "1     1598    Oil on copper, 56 x 47 cm   \n",
       "2     1602  Oil on canvas, 197 x 142 cm   \n",
       "3  1595-98    Oil on copper, 31 x 21 cm   \n",
       "4     1593    Oil on canvas, 54 x 67 cm   \n",
       "\n",
       "                                         LOCATION      FORM          TYPE  \\\n",
       "0  Fogg Art Museum, Harvard University, Cambridge  painting  mythological   \n",
       "1                         Alte Pinakothek, Munich  painting  mythological   \n",
       "2                   The Hermitage, St. Petersburg  painting  mythological   \n",
       "3                Kunsthistorisches Museum, Vienna  painting  mythological   \n",
       "4                     Museum of Fine Arts, Boston  painting  mythological   \n",
       "\n",
       "   SCHOOL  TIMEFRAME  \n",
       "0  German  1601-1650  \n",
       "1  German  1601-1650  \n",
       "2  German  1601-1650  \n",
       "3  German  1601-1650  \n",
       "4  German  1601-1650  "
      ]
     },
     "execution_count": 11,
     "metadata": {},
     "output_type": "execute_result"
    }
   ],
   "source": [
    "dataset.head()"
   ]
  },
  {
   "cell_type": "code",
   "execution_count": 12,
   "metadata": {},
   "outputs": [],
   "source": [
    "repl = []"
   ]
  },
  {
   "cell_type": "code",
   "execution_count": 13,
   "metadata": {},
   "outputs": [],
   "source": [
    "for i in dataset.index:\n",
    "    a = dataset.loc[i,'description'].replace('[', '')\n",
    "    a = a.replace(']', '')\n",
    "    a = a.replace(\"\\\\\\\\r\\\\\\\\n\", \" \")\n",
    "    a = a.replace('\\\\r', '')\n",
    "    a = a.replace('\\\\n', '')\n",
    "    a = a.replace(\"\\\\\", \"\")\n",
    "    a = a.strip(\"'\")\n",
    "    a = a.replace('\"', '')\n",
    "    a = a.replace(\". ,\", \". \")\n",
    "    repl.append(a)"
   ]
  },
  {
   "cell_type": "code",
   "execution_count": 14,
   "metadata": {},
   "outputs": [],
   "source": [
    "dataset['removed'] = repl"
   ]
  },
  {
   "cell_type": "code",
   "execution_count": 15,
   "metadata": {},
   "outputs": [
    {
     "data": {
      "text/plain": [
       "['',\n",
       " 'The painting, displaying the characteristic Mannerist style of the artist, is also known as The Triumph of Justice.',\n",
       " \"The allegorical painting in the Hermitage is a characteristic work by Hans von Aachen, who was himself a typical representative of the distinctive cosmopolitan school that formed at the turn of the 17th century at the court of Holy Roman Emperor Rudolf II in Prague. The three female figures embody Peace (with an olive branch), Science and the Liberal Arts (with a sphere and a palette) and Abundance (with a goblet and a horn of plenty). The subject was intended to symbolically extols the Emperor's peaceful policies that led to prosperity and the flourishing of learning and the arts. The allegorical, encoded content, the unstable composition with movement along the diagonal, the aristocratic elongation of the figure, the cold tone of the picture, elements of eroticism and disturbing lighting are all features of the Rudolfine artistic circle that eclectically combined features of Italian and Low Countries Mannerism.\"]"
      ]
     },
     "execution_count": 15,
     "metadata": {},
     "output_type": "execute_result"
    }
   ],
   "source": [
    "repl[0:3]"
   ]
  },
  {
   "cell_type": "code",
   "execution_count": 16,
   "metadata": {},
   "outputs": [
    {
     "data": {
      "text/plain": [
       "\"Gaspar Rem (1542-c. 1616) was a Flemish painter. Hans von Aachen travelled to Italy c. 1574, first working in Venice as a copyist and for the painter Gaspar Rem, before going in 1575 to Rome, where he copied antique sculptures and the works of Italian masters.Von Aachen's portraits are remarkable for their psychological sensitivity. One of the earliest, of his teacher in Venice Gaspar Rem, clearly shows the influence of Venetian portrait painting (e.g. Jacopo Bassano).  Von Aachen's portraits are remarkable for their psychological sensitivity. One of the earliest, of his teacher in Venice Gaspar Rem, clearly shows the influence of Venetian portrait painting (e.g. Jacopo Bassano). \""
      ]
     },
     "execution_count": 16,
     "metadata": {},
     "output_type": "execute_result"
    }
   ],
   "source": [
    "repl[12]"
   ]
  },
  {
   "cell_type": "code",
   "execution_count": 17,
   "metadata": {},
   "outputs": [
    {
     "data": {
      "text/plain": [
       "'[\"\\\\r\\\\nGaspar Rem (1542-c. 1616) was a Flemish painter. Hans von Aachen travelled to Italy c. 1574, first working in Venice as a copyist and for the painter Gaspar Rem, before going in 1575 to Rome, where he copied antique sculptures and the works of Italian masters.\\\\r\\\\nVon Aachen\\'s portraits are remarkable for their psychological sensitivity. One of the earliest, of his teacher in Venice Gaspar Rem, clearly shows the influence of Venetian portrait painting (e.g. Jacopo Bassano). \\\\r\\\\n\\\\r\\\\n\\\\n\", \"\\\\r\\\\nVon Aachen\\'s portraits are remarkable for their psychological sensitivity. One of the earliest, of his teacher in Venice Gaspar Rem, clearly shows the influence of Venetian portrait painting (e.g. Jacopo Bassano). \\\\r\\\\n\\\\r\\\\n\\\\n\"]'"
      ]
     },
     "execution_count": 17,
     "metadata": {},
     "output_type": "execute_result"
    }
   ],
   "source": [
    "dataset.loc[12, 'description']"
   ]
  },
  {
   "cell_type": "code",
   "execution_count": 19,
   "metadata": {},
   "outputs": [],
   "source": [
    "lengths = {0: 0}"
   ]
  },
  {
   "cell_type": "code",
   "execution_count": 20,
   "metadata": {},
   "outputs": [],
   "source": [
    "for i, str in enumerate(dataset['removed']):\n",
    "    if(str == ''):\n",
    "        lengths[0]+=1\n",
    "    else:\n",
    "        leng = len(str)\n",
    "        if leng in lengths:\n",
    "            lengths[leng]+=1\n",
    "        else:\n",
    "            lengths[leng] = 0"
   ]
  },
  {
   "cell_type": "code",
   "execution_count": 21,
   "metadata": {},
   "outputs": [],
   "source": [
    "lengths = sorted(lengths.items())"
   ]
  },
  {
   "cell_type": "code",
   "execution_count": 38,
   "metadata": {},
   "outputs": [],
   "source": [
    "under = 0\n",
    "over = 0\n",
    "zero = 0\n",
    "threshold = 50\n",
    "\n",
    "for i in lengths:\n",
    "    if(i[0] == 0):\n",
    "        zero += i[1]\n",
    "    elif(i[0] <= threshold):\n",
    "        under += i[1]\n",
    "    else:\n",
    "        over += i[1]\n"
   ]
  },
  {
   "cell_type": "code",
   "execution_count": 39,
   "metadata": {},
   "outputs": [
    {
     "name": "stdout",
     "output_type": "stream",
     "text": [
      "7863\n",
      "907\n",
      "39461\n"
     ]
    }
   ],
   "source": [
    "print(zero)\n",
    "print(under)\n",
    "print(over)"
   ]
  },
  {
   "cell_type": "code",
   "execution_count": 33,
   "metadata": {},
   "outputs": [
    {
     "data": {
      "text/html": [
       "<div>\n",
       "<style scoped>\n",
       "    .dataframe tbody tr th:only-of-type {\n",
       "        vertical-align: middle;\n",
       "    }\n",
       "\n",
       "    .dataframe tbody tr th {\n",
       "        vertical-align: top;\n",
       "    }\n",
       "\n",
       "    .dataframe thead th {\n",
       "        text-align: right;\n",
       "    }\n",
       "</style>\n",
       "<table border=\"1\" class=\"dataframe\">\n",
       "  <thead>\n",
       "    <tr style=\"text-align: right;\">\n",
       "      <th></th>\n",
       "      <th>image</th>\n",
       "      <th>description</th>\n",
       "      <th>AUTHOR</th>\n",
       "      <th>BORN-DIED</th>\n",
       "      <th>TITLE</th>\n",
       "      <th>DATE</th>\n",
       "      <th>TECHNIQUE</th>\n",
       "      <th>LOCATION</th>\n",
       "      <th>FORM</th>\n",
       "      <th>TYPE</th>\n",
       "      <th>SCHOOL</th>\n",
       "      <th>TIMEFRAME</th>\n",
       "      <th>removed</th>\n",
       "    </tr>\n",
       "  </thead>\n",
       "  <tbody>\n",
       "    <tr>\n",
       "      <th>1</th>\n",
       "      <td>https://www.wga.hu/detail/a/aachen/allegory.jpg</td>\n",
       "      <td>['\\r\\nThe painting, displaying the characteris...</td>\n",
       "      <td>AACHEN, Hans von</td>\n",
       "      <td>(b. 1552, Köln, d. 1615, Praha)</td>\n",
       "      <td>Allegory</td>\n",
       "      <td>1598</td>\n",
       "      <td>Oil on copper, 56 x 47 cm</td>\n",
       "      <td>Alte Pinakothek, Munich</td>\n",
       "      <td>painting</td>\n",
       "      <td>mythological</td>\n",
       "      <td>German</td>\n",
       "      <td>1601-1650</td>\n",
       "      <td>The painting, displaying the characteristic Ma...</td>\n",
       "    </tr>\n",
       "    <tr>\n",
       "      <th>2</th>\n",
       "      <td>https://www.wga.hu/detail/a/aachen/allegorz.jpg</td>\n",
       "      <td>[\"\\r\\nThe allegorical painting in the Hermitag...</td>\n",
       "      <td>AACHEN, Hans von</td>\n",
       "      <td>(b. 1552, Köln, d. 1615, Praha)</td>\n",
       "      <td>Allegory of Peace, Art and Abundance</td>\n",
       "      <td>1602</td>\n",
       "      <td>Oil on canvas, 197 x 142 cm</td>\n",
       "      <td>The Hermitage, St. Petersburg</td>\n",
       "      <td>painting</td>\n",
       "      <td>mythological</td>\n",
       "      <td>German</td>\n",
       "      <td>1601-1650</td>\n",
       "      <td>The allegorical painting in the Hermitage is a...</td>\n",
       "    </tr>\n",
       "    <tr>\n",
       "      <th>5</th>\n",
       "      <td>https://www.wga.hu/detail/a/aachen/bacchus.jpg</td>\n",
       "      <td>[\"\\r\\nThe representation of this group is rela...</td>\n",
       "      <td>AACHEN, Hans von</td>\n",
       "      <td>(b. 1552, Köln, d. 1615, Praha)</td>\n",
       "      <td>Bacchus, Ceres and Cupid</td>\n",
       "      <td>1595-1605</td>\n",
       "      <td>Oil on canvas, 163 x 113 cm</td>\n",
       "      <td>Kunsthistorisches Museum, Vienna</td>\n",
       "      <td>painting</td>\n",
       "      <td>mythological</td>\n",
       "      <td>German</td>\n",
       "      <td>1601-1650</td>\n",
       "      <td>The representation of this group is related to...</td>\n",
       "    </tr>\n",
       "    <tr>\n",
       "      <th>7</th>\n",
       "      <td>https://www.wga.hu/detail/a/aachen/davidbat.jpg</td>\n",
       "      <td>[\"\\r\\nHans von Aachen's allegorical paintings,...</td>\n",
       "      <td>AACHEN, Hans von</td>\n",
       "      <td>(b. 1552, Köln, d. 1615, Praha)</td>\n",
       "      <td>David and Bathsheba</td>\n",
       "      <td>1612-15</td>\n",
       "      <td>Oil on canvas, 128 x 105 cm</td>\n",
       "      <td>Kunsthistorisches Museum, Vienna</td>\n",
       "      <td>painting</td>\n",
       "      <td>historical</td>\n",
       "      <td>German</td>\n",
       "      <td>1601-1650</td>\n",
       "      <td>Hans von Aachen's allegorical paintings, with ...</td>\n",
       "    </tr>\n",
       "    <tr>\n",
       "      <th>8</th>\n",
       "      <td>https://www.wga.hu/detail/a/aachen/gods.jpg</td>\n",
       "      <td>['\\r\\nJupiter, the ruler of the gods, is seate...</td>\n",
       "      <td>AACHEN, Hans von</td>\n",
       "      <td>(b. 1552, Köln, d. 1615, Praha)</td>\n",
       "      <td>The Amazement of the Gods</td>\n",
       "      <td>1590s</td>\n",
       "      <td>Oil on copper, 36 x 46 cm</td>\n",
       "      <td>National Gallery, London</td>\n",
       "      <td>painting</td>\n",
       "      <td>mythological</td>\n",
       "      <td>German</td>\n",
       "      <td>1601-1650</td>\n",
       "      <td>Jupiter, the ruler of the gods, is seated on a...</td>\n",
       "    </tr>\n",
       "  </tbody>\n",
       "</table>\n",
       "</div>"
      ],
      "text/plain": [
       "                                             image  \\\n",
       "1  https://www.wga.hu/detail/a/aachen/allegory.jpg   \n",
       "2  https://www.wga.hu/detail/a/aachen/allegorz.jpg   \n",
       "5   https://www.wga.hu/detail/a/aachen/bacchus.jpg   \n",
       "7  https://www.wga.hu/detail/a/aachen/davidbat.jpg   \n",
       "8      https://www.wga.hu/detail/a/aachen/gods.jpg   \n",
       "\n",
       "                                         description            AUTHOR  \\\n",
       "1  ['\\r\\nThe painting, displaying the characteris...  AACHEN, Hans von   \n",
       "2  [\"\\r\\nThe allegorical painting in the Hermitag...  AACHEN, Hans von   \n",
       "5  [\"\\r\\nThe representation of this group is rela...  AACHEN, Hans von   \n",
       "7  [\"\\r\\nHans von Aachen's allegorical paintings,...  AACHEN, Hans von   \n",
       "8  ['\\r\\nJupiter, the ruler of the gods, is seate...  AACHEN, Hans von   \n",
       "\n",
       "                         BORN-DIED                                 TITLE  \\\n",
       "1  (b. 1552, Köln, d. 1615, Praha)                              Allegory   \n",
       "2  (b. 1552, Köln, d. 1615, Praha)  Allegory of Peace, Art and Abundance   \n",
       "5  (b. 1552, Köln, d. 1615, Praha)              Bacchus, Ceres and Cupid   \n",
       "7  (b. 1552, Köln, d. 1615, Praha)                   David and Bathsheba   \n",
       "8  (b. 1552, Köln, d. 1615, Praha)             The Amazement of the Gods   \n",
       "\n",
       "        DATE                    TECHNIQUE                          LOCATION  \\\n",
       "1       1598    Oil on copper, 56 x 47 cm           Alte Pinakothek, Munich   \n",
       "2       1602  Oil on canvas, 197 x 142 cm     The Hermitage, St. Petersburg   \n",
       "5  1595-1605  Oil on canvas, 163 x 113 cm  Kunsthistorisches Museum, Vienna   \n",
       "7    1612-15  Oil on canvas, 128 x 105 cm  Kunsthistorisches Museum, Vienna   \n",
       "8      1590s    Oil on copper, 36 x 46 cm          National Gallery, London   \n",
       "\n",
       "       FORM          TYPE  SCHOOL  TIMEFRAME  \\\n",
       "1  painting  mythological  German  1601-1650   \n",
       "2  painting  mythological  German  1601-1650   \n",
       "5  painting  mythological  German  1601-1650   \n",
       "7  painting    historical  German  1601-1650   \n",
       "8  painting  mythological  German  1601-1650   \n",
       "\n",
       "                                             removed  \n",
       "1  The painting, displaying the characteristic Ma...  \n",
       "2  The allegorical painting in the Hermitage is a...  \n",
       "5  The representation of this group is related to...  \n",
       "7  Hans von Aachen's allegorical paintings, with ...  \n",
       "8  Jupiter, the ruler of the gods, is seated on a...  "
      ]
     },
     "execution_count": 33,
     "metadata": {},
     "output_type": "execute_result"
    }
   ],
   "source": [
    "refined_dataset = dataset[dataset.removed != '']\n",
    "refined_dataset.head()"
   ]
  },
  {
   "cell_type": "code",
   "execution_count": 34,
   "metadata": {},
   "outputs": [
    {
     "data": {
      "text/plain": [
       "(45004, 13)"
      ]
     },
     "execution_count": 34,
     "metadata": {},
     "output_type": "execute_result"
    }
   ],
   "source": [
    "refined_dataset.shape"
   ]
  },
  {
   "cell_type": "code",
   "execution_count": 35,
   "metadata": {},
   "outputs": [],
   "source": [
    "refined_dataset.to_csv('refined_dataset.csv')"
   ]
  },
  {
   "cell_type": "markdown",
   "metadata": {},
   "source": []
  },
  {
   "cell_type": "markdown",
   "metadata": {},
   "source": []
  }
 ],
 "metadata": {
  "interpreter": {
   "hash": "f4275cbb966fad0ad13f4947ab60e9af3145ed96e46c7ad2a706fb187f83e820"
  },
  "kernelspec": {
   "display_name": "Python 3.9.7 ('base')",
   "language": "python",
   "name": "python3"
  },
  "language_info": {
   "codemirror_mode": {
    "name": "ipython",
    "version": 3
   },
   "file_extension": ".py",
   "mimetype": "text/x-python",
   "name": "python",
   "nbconvert_exporter": "python",
   "pygments_lexer": "ipython3",
   "version": "3.9.7"
  },
  "orig_nbformat": 4
 },
 "nbformat": 4,
 "nbformat_minor": 2
}
