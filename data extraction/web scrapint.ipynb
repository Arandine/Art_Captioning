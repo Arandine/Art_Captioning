{
 "cells": [
  {
   "cell_type": "code",
   "execution_count": 2,
   "metadata": {},
   "outputs": [],
   "source": [
    "import pandas as pd\n",
    "from bs4 import BeautifulSoup as bs\n",
    "import requests"
   ]
  },
  {
   "cell_type": "code",
   "execution_count": 3,
   "metadata": {},
   "outputs": [],
   "source": [
    "df = pd.read_excel(\"/home/hyunwook/Desktop/Python/Art Project - Captioning/data extraction/catalog.xlsx\")"
   ]
  },
  {
   "cell_type": "code",
   "execution_count": 4,
   "metadata": {},
   "outputs": [
    {
     "name": "stdout",
     "output_type": "stream",
     "text": [
      "             AUTHOR                        BORN-DIED  \\\n",
      "0  AACHEN, Hans von  (b. 1552, Köln, d. 1615, Praha)   \n",
      "1  AACHEN, Hans von  (b. 1552, Köln, d. 1615, Praha)   \n",
      "2  AACHEN, Hans von  (b. 1552, Köln, d. 1615, Praha)   \n",
      "3  AACHEN, Hans von  (b. 1552, Köln, d. 1615, Praha)   \n",
      "4  AACHEN, Hans von  (b. 1552, Köln, d. 1615, Praha)   \n",
      "\n",
      "                                  TITLE     DATE                    TECHNIQUE  \\\n",
      "0                      Venus and Adonis  1574-88    Oil on canvas, 68 x 95 cm   \n",
      "1                              Allegory     1598    Oil on copper, 56 x 47 cm   \n",
      "2  Allegory of Peace, Art and Abundance     1602  Oil on canvas, 197 x 142 cm   \n",
      "3            Jupiter, Antiope and Cupid  1595-98    Oil on copper, 31 x 21 cm   \n",
      "4         Pallas Athena, Venus and Juno     1593    Oil on canvas, 54 x 67 cm   \n",
      "\n",
      "                                         LOCATION  \\\n",
      "0  Fogg Art Museum, Harvard University, Cambridge   \n",
      "1                         Alte Pinakothek, Munich   \n",
      "2                   The Hermitage, St. Petersburg   \n",
      "3                Kunsthistorisches Museum, Vienna   \n",
      "4                     Museum of Fine Arts, Boston   \n",
      "\n",
      "                                              URL      FORM          TYPE  \\\n",
      "0    https://www.wga.hu/html/a/aachen/adonis.html  painting  mythological   \n",
      "1  https://www.wga.hu/html/a/aachen/allegory.html  painting  mythological   \n",
      "2  https://www.wga.hu/html/a/aachen/allegorz.html  painting  mythological   \n",
      "3   https://www.wga.hu/html/a/aachen/antiope.html  painting  mythological   \n",
      "4    https://www.wga.hu/html/a/aachen/athena.html  painting  mythological   \n",
      "\n",
      "   SCHOOL  TIMEFRAME  \n",
      "0  German  1601-1650  \n",
      "1  German  1601-1650  \n",
      "2  German  1601-1650  \n",
      "3  German  1601-1650  \n",
      "4  German  1601-1650  \n"
     ]
    }
   ],
   "source": [
    "print(df.head())"
   ]
  },
  {
   "cell_type": "code",
   "execution_count": 5,
   "metadata": {},
   "outputs": [
    {
     "data": {
      "text/plain": [
       "Index(['AUTHOR', 'BORN-DIED', 'TITLE', 'DATE', 'TECHNIQUE', 'LOCATION', 'URL',\n",
       "       'FORM', 'TYPE', 'SCHOOL', 'TIMEFRAME'],\n",
       "      dtype='object')"
      ]
     },
     "execution_count": 5,
     "metadata": {},
     "output_type": "execute_result"
    }
   ],
   "source": [
    "df.columns"
   ]
  },
  {
   "cell_type": "code",
   "execution_count": 6,
   "metadata": {},
   "outputs": [],
   "source": [
    "res = pd.DataFrame(df)"
   ]
  },
  {
   "cell_type": "code",
   "execution_count": 7,
   "metadata": {},
   "outputs": [
    {
     "data": {
      "text/html": [
       "<div>\n",
       "<style scoped>\n",
       "    .dataframe tbody tr th:only-of-type {\n",
       "        vertical-align: middle;\n",
       "    }\n",
       "\n",
       "    .dataframe tbody tr th {\n",
       "        vertical-align: top;\n",
       "    }\n",
       "\n",
       "    .dataframe thead th {\n",
       "        text-align: right;\n",
       "    }\n",
       "</style>\n",
       "<table border=\"1\" class=\"dataframe\">\n",
       "  <thead>\n",
       "    <tr style=\"text-align: right;\">\n",
       "      <th></th>\n",
       "      <th>AUTHOR</th>\n",
       "      <th>BORN-DIED</th>\n",
       "      <th>TITLE</th>\n",
       "      <th>DATE</th>\n",
       "      <th>TECHNIQUE</th>\n",
       "      <th>LOCATION</th>\n",
       "      <th>URL</th>\n",
       "      <th>FORM</th>\n",
       "      <th>TYPE</th>\n",
       "      <th>SCHOOL</th>\n",
       "      <th>TIMEFRAME</th>\n",
       "    </tr>\n",
       "  </thead>\n",
       "  <tbody>\n",
       "    <tr>\n",
       "      <th>10</th>\n",
       "      <td>AACHEN, Hans von</td>\n",
       "      <td>(b. 1552, Köln, d. 1615, Praha)</td>\n",
       "      <td>Couple with Mirror</td>\n",
       "      <td>1596</td>\n",
       "      <td>Copperplate, 25 x 20 cm</td>\n",
       "      <td>Kunsthistorisches Museum, Vienna</td>\n",
       "      <td>https://www.wga.hu/html/a/aachen/j_couple.html</td>\n",
       "      <td>painting</td>\n",
       "      <td>genre</td>\n",
       "      <td>German</td>\n",
       "      <td>1601-1650</td>\n",
       "    </tr>\n",
       "    <tr>\n",
       "      <th>11</th>\n",
       "      <td>AACHEN, Hans von</td>\n",
       "      <td>(b. 1552, Köln, d. 1615, Praha)</td>\n",
       "      <td>A Couple in a Tavern</td>\n",
       "      <td>1595-1605</td>\n",
       "      <td>Oil on canvas, 63 x 51 cm</td>\n",
       "      <td>Kunsthistorisches Museum, Vienna</td>\n",
       "      <td>https://www.wga.hu/html/a/aachen/k_couple.html</td>\n",
       "      <td>painting</td>\n",
       "      <td>genre</td>\n",
       "      <td>German</td>\n",
       "      <td>1601-1650</td>\n",
       "    </tr>\n",
       "    <tr>\n",
       "      <th>12</th>\n",
       "      <td>AACHEN, Hans von</td>\n",
       "      <td>(b. 1552, Köln, d. 1615, Praha)</td>\n",
       "      <td>Gaspar Rem</td>\n",
       "      <td>1574-75</td>\n",
       "      <td>Oil on canvas, 49 x 42 cm</td>\n",
       "      <td>Kunsthistorisches Museum, Vienna</td>\n",
       "      <td>https://www.wga.hu/html/a/aachen/portrai1.html</td>\n",
       "      <td>painting</td>\n",
       "      <td>portrait</td>\n",
       "      <td>German</td>\n",
       "      <td>1601-1650</td>\n",
       "    </tr>\n",
       "    <tr>\n",
       "      <th>13</th>\n",
       "      <td>AACHEN, Hans von</td>\n",
       "      <td>(b. 1552, Köln, d. 1615, Praha)</td>\n",
       "      <td>Portrait of Painter Josef Heintz</td>\n",
       "      <td>1585</td>\n",
       "      <td>Oil on canvas, 57 x 44 cm</td>\n",
       "      <td>Národní Galerie, Prague</td>\n",
       "      <td>https://www.wga.hu/html/a/aachen/portrai2.html</td>\n",
       "      <td>painting</td>\n",
       "      <td>portrait</td>\n",
       "      <td>German</td>\n",
       "      <td>1601-1650</td>\n",
       "    </tr>\n",
       "    <tr>\n",
       "      <th>14</th>\n",
       "      <td>AACHEN, Hans von</td>\n",
       "      <td>(b. 1552, Köln, d. 1615, Praha)</td>\n",
       "      <td>Anna of Tyrol</td>\n",
       "      <td>1604</td>\n",
       "      <td>Oil on canvas, 58 x 48 cm</td>\n",
       "      <td>Kunsthistorisches Museum, Vienna</td>\n",
       "      <td>https://www.wga.hu/html/a/aachen/portrai3.html</td>\n",
       "      <td>painting</td>\n",
       "      <td>portrait</td>\n",
       "      <td>German</td>\n",
       "      <td>1601-1650</td>\n",
       "    </tr>\n",
       "  </tbody>\n",
       "</table>\n",
       "</div>"
      ],
      "text/plain": [
       "              AUTHOR                        BORN-DIED  \\\n",
       "10  AACHEN, Hans von  (b. 1552, Köln, d. 1615, Praha)   \n",
       "11  AACHEN, Hans von  (b. 1552, Köln, d. 1615, Praha)   \n",
       "12  AACHEN, Hans von  (b. 1552, Köln, d. 1615, Praha)   \n",
       "13  AACHEN, Hans von  (b. 1552, Köln, d. 1615, Praha)   \n",
       "14  AACHEN, Hans von  (b. 1552, Köln, d. 1615, Praha)   \n",
       "\n",
       "                               TITLE       DATE                  TECHNIQUE  \\\n",
       "10                Couple with Mirror       1596    Copperplate, 25 x 20 cm   \n",
       "11              A Couple in a Tavern  1595-1605  Oil on canvas, 63 x 51 cm   \n",
       "12                        Gaspar Rem    1574-75  Oil on canvas, 49 x 42 cm   \n",
       "13  Portrait of Painter Josef Heintz       1585  Oil on canvas, 57 x 44 cm   \n",
       "14                     Anna of Tyrol       1604  Oil on canvas, 58 x 48 cm   \n",
       "\n",
       "                            LOCATION  \\\n",
       "10  Kunsthistorisches Museum, Vienna   \n",
       "11  Kunsthistorisches Museum, Vienna   \n",
       "12  Kunsthistorisches Museum, Vienna   \n",
       "13           Národní Galerie, Prague   \n",
       "14  Kunsthistorisches Museum, Vienna   \n",
       "\n",
       "                                               URL      FORM      TYPE  \\\n",
       "10  https://www.wga.hu/html/a/aachen/j_couple.html  painting     genre   \n",
       "11  https://www.wga.hu/html/a/aachen/k_couple.html  painting     genre   \n",
       "12  https://www.wga.hu/html/a/aachen/portrai1.html  painting  portrait   \n",
       "13  https://www.wga.hu/html/a/aachen/portrai2.html  painting  portrait   \n",
       "14  https://www.wga.hu/html/a/aachen/portrai3.html  painting  portrait   \n",
       "\n",
       "    SCHOOL  TIMEFRAME  \n",
       "10  German  1601-1650  \n",
       "11  German  1601-1650  \n",
       "12  German  1601-1650  \n",
       "13  German  1601-1650  \n",
       "14  German  1601-1650  "
      ]
     },
     "execution_count": 7,
     "metadata": {},
     "output_type": "execute_result"
    }
   ],
   "source": [
    "res[10:15]"
   ]
  },
  {
   "cell_type": "code",
   "execution_count": 30,
   "metadata": {},
   "outputs": [],
   "source": [
    "imag = {}"
   ]
  },
  {
   "cell_type": "code",
   "execution_count": 41,
   "metadata": {},
   "outputs": [
    {
     "name": "stdout",
     "output_type": "stream",
     "text": [
      "0\n",
      "1\n",
      "('https://www.wga.hu/detail/a/aachen/adonis.jpg', ['\\n\\n'])\n",
      "1\n",
      "('https://www.wga.hu/detail/a/aachen/allegory.jpg', ['\\r\\nThe painting, displaying the characteristic Mannerist style of the artist, is also known as The Triumph of Justice.\\r\\n\\r\\n\\n'])\n",
      "1\n",
      "('https://www.wga.hu/detail/a/aachen/allegorz.jpg', [\"\\r\\nThe allegorical painting in the Hermitage is a characteristic work by Hans von Aachen, who was himself a typical representative of the distinctive cosmopolitan school that formed at the turn of the 17th century at the court of Holy Roman Emperor Rudolf II in Prague. The three female figures embody Peace (with an olive branch), Science and the Liberal Arts (with a sphere and a palette) and Abundance (with a goblet and a horn of plenty). The subject was intended to symbolically extols the Emperor's peaceful policies that led to prosperity and the flourishing of learning and the arts. The allegorical, encoded content, the unstable composition with movement along the diagonal, the aristocratic elongation of the figure, the cold tone of the picture, elements of eroticism and disturbing lighting are all features of the Rudolfine artistic circle that eclectically combined features of Italian and Low Countries Mannerism.\\r\\n\\r\\n\\n\"])\n",
      "1\n",
      "('https://www.wga.hu/detail/a/aachen/antiope.jpg', ['\\n\\n'])\n",
      "1\n",
      "('https://www.wga.hu/detail/a/aachen/athena.jpg', ['\\n\\n'])\n",
      "2\n",
      "('https://www.wga.hu/detail/a/aachen/bacchus.jpg', [\"\\r\\nThe representation of this group is related to the frequently depicted sentence by Terence: Sine Cerere et Baccho friget Venus - Without Ceres (bread) and Bacchus (wine) Venus freezes. Aachen gives the mythological figures the facial features of his family: his own, his wife and their son. The motif could allude to the famous picture of the Greek painter Zeuxis. He painted a boy with grapes so naturally that the birds pecked at the painted fruits.\\r\\nThe nude figure of a woman viewed from behind, a favourite motif in Rudolfine art, is represented here in a sensually suggestive way. The elongation of the female body is characteristic of the excessively refined Mannerist art and culture prevalent at the court in Prague c. 1600 and can also be found in the work of von Aachen's contemporaries at court, Bartholomäus Spranger and Joseph Heintz the Elder.\\r\\n\\r\\n\\n\", \"\\r\\nThe nude figure of a woman viewed from behind, a favourite motif in Rudolfine art, is represented here in a sensually suggestive way. The elongation of the female body is characteristic of the excessively refined Mannerist art and culture prevalent at the court in Prague c. 1600 and can also be found in the work of von Aachen's contemporaries at court, Bartholomäus Spranger and Joseph Heintz the Elder.\\r\\n\\r\\n\\n\"])\n",
      "1\n",
      "('https://www.wga.hu/detail/a/aachen/bacchus1.jpg', ['\\n\\n'])\n",
      "1\n",
      "('https://www.wga.hu/detail/a/aachen/davidbat.jpg', [\"\\r\\nHans von Aachen's allegorical paintings, with their often complicated encoding, carried an intellectual stamp, powerfully influenced by the personality of the Emperor and by his high level of culture. After Rudolf II's death, von Aachen continued to paint in a similar fashion, though the colouring became darker in his late works, as if he were trying to convey the slow decline of Rudolfine art. During the reign of Emperor Matthias he painted David and Bathsheba, a tribute to the ideal of female beauty of Prague Mannerism; here again the naked female body is at the centre of the narrative. The boundary between mythological and religious painting is blurred in favour of extremely sensual eroticism. The objects surrounding Bathsheba, arranged in a still-life manner, are reminiscent of Netherlandish models, to which Hans von Aachen was also indebted in his few genre paintings.\\r\\n\\r\\n\\n\"])\n",
      "2\n",
      "('https://www.wga.hu/detail/a/aachen/gods.jpg', ['\\r\\nJupiter, the ruler of the gods, is seated on a cloud, his attribute of an eagle with thunderbolts in its beak beside him. He is embracing the goddess Minerva, his daughter. The scene is witnessed by a gathering of the gods of Olympus, clearly shocked by what they see.\\r\\nMercury, messenger of the gods, carries his winged caduceus (wand) in one hand and points toward the pair with the other. Diana, goddess of the moon, with her back turned, has abandoned her bow and her quiver full of arrows to watch. Apollo is seated with his lyre; Venus leans, naked, against a boulder as Cupid covers her with a shimmering drapery.\\r\\n\\r\\n\\n', '\\r\\nMercury, messenger of the gods, carries his winged caduceus (wand) in one hand and points toward the pair with the other. Diana, goddess of the moon, with her back turned, has abandoned her bow and her quiver full of arrows to watch. Apollo is seated with his lyre; Venus leans, naked, against a boulder as Cupid covers her with a shimmering drapery.\\r\\n\\r\\n\\n'])\n"
     ]
    },
    {
     "ename": "KeyboardInterrupt",
     "evalue": "",
     "output_type": "error",
     "traceback": [
      "\u001b[0;31m---------------------------------------------------------------------------\u001b[0m",
      "\u001b[0;31mKeyboardInterrupt\u001b[0m                         Traceback (most recent call last)",
      "\u001b[0;32m/tmp/ipykernel_59628/4255633368.py\u001b[0m in \u001b[0;36m<module>\u001b[0;34m\u001b[0m\n\u001b[1;32m      9\u001b[0m         }\n\u001b[1;32m     10\u001b[0m     )\n\u001b[0;32m---> 11\u001b[0;31m     \u001b[0mresponse\u001b[0m \u001b[0;34m=\u001b[0m \u001b[0mrequests\u001b[0m\u001b[0;34m.\u001b[0m\u001b[0mget\u001b[0m\u001b[0;34m(\u001b[0m\u001b[0murl\u001b[0m\u001b[0;34m,\u001b[0m \u001b[0mheaders\u001b[0m \u001b[0;34m=\u001b[0m \u001b[0mheaders\u001b[0m\u001b[0;34m)\u001b[0m\u001b[0;34m\u001b[0m\u001b[0;34m\u001b[0m\u001b[0m\n\u001b[0m\u001b[1;32m     12\u001b[0m     \u001b[0msoup\u001b[0m \u001b[0;34m=\u001b[0m \u001b[0mbs\u001b[0m\u001b[0;34m(\u001b[0m\u001b[0mresponse\u001b[0m\u001b[0;34m.\u001b[0m\u001b[0mcontent\u001b[0m\u001b[0;34m,\u001b[0m \u001b[0;34m'html.parser'\u001b[0m\u001b[0;34m)\u001b[0m\u001b[0;34m\u001b[0m\u001b[0;34m\u001b[0m\u001b[0m\n\u001b[1;32m     13\u001b[0m     \u001b[0;31m#print(type(soup))\u001b[0m\u001b[0;34m\u001b[0m\u001b[0;34m\u001b[0m\u001b[0m\n",
      "\u001b[0;32m~/anaconda3/lib/python3.9/site-packages/requests/api.py\u001b[0m in \u001b[0;36mget\u001b[0;34m(url, params, **kwargs)\u001b[0m\n\u001b[1;32m     73\u001b[0m     \"\"\"\n\u001b[1;32m     74\u001b[0m \u001b[0;34m\u001b[0m\u001b[0m\n\u001b[0;32m---> 75\u001b[0;31m     \u001b[0;32mreturn\u001b[0m \u001b[0mrequest\u001b[0m\u001b[0;34m(\u001b[0m\u001b[0;34m'get'\u001b[0m\u001b[0;34m,\u001b[0m \u001b[0murl\u001b[0m\u001b[0;34m,\u001b[0m \u001b[0mparams\u001b[0m\u001b[0;34m=\u001b[0m\u001b[0mparams\u001b[0m\u001b[0;34m,\u001b[0m \u001b[0;34m**\u001b[0m\u001b[0mkwargs\u001b[0m\u001b[0;34m)\u001b[0m\u001b[0;34m\u001b[0m\u001b[0;34m\u001b[0m\u001b[0m\n\u001b[0m\u001b[1;32m     76\u001b[0m \u001b[0;34m\u001b[0m\u001b[0m\n\u001b[1;32m     77\u001b[0m \u001b[0;34m\u001b[0m\u001b[0m\n",
      "\u001b[0;32m~/anaconda3/lib/python3.9/site-packages/requests/api.py\u001b[0m in \u001b[0;36mrequest\u001b[0;34m(method, url, **kwargs)\u001b[0m\n\u001b[1;32m     59\u001b[0m     \u001b[0;31m# cases, and look like a memory leak in others.\u001b[0m\u001b[0;34m\u001b[0m\u001b[0;34m\u001b[0m\u001b[0m\n\u001b[1;32m     60\u001b[0m     \u001b[0;32mwith\u001b[0m \u001b[0msessions\u001b[0m\u001b[0;34m.\u001b[0m\u001b[0mSession\u001b[0m\u001b[0;34m(\u001b[0m\u001b[0;34m)\u001b[0m \u001b[0;32mas\u001b[0m \u001b[0msession\u001b[0m\u001b[0;34m:\u001b[0m\u001b[0;34m\u001b[0m\u001b[0;34m\u001b[0m\u001b[0m\n\u001b[0;32m---> 61\u001b[0;31m         \u001b[0;32mreturn\u001b[0m \u001b[0msession\u001b[0m\u001b[0;34m.\u001b[0m\u001b[0mrequest\u001b[0m\u001b[0;34m(\u001b[0m\u001b[0mmethod\u001b[0m\u001b[0;34m=\u001b[0m\u001b[0mmethod\u001b[0m\u001b[0;34m,\u001b[0m \u001b[0murl\u001b[0m\u001b[0;34m=\u001b[0m\u001b[0murl\u001b[0m\u001b[0;34m,\u001b[0m \u001b[0;34m**\u001b[0m\u001b[0mkwargs\u001b[0m\u001b[0;34m)\u001b[0m\u001b[0;34m\u001b[0m\u001b[0;34m\u001b[0m\u001b[0m\n\u001b[0m\u001b[1;32m     62\u001b[0m \u001b[0;34m\u001b[0m\u001b[0m\n\u001b[1;32m     63\u001b[0m \u001b[0;34m\u001b[0m\u001b[0m\n",
      "\u001b[0;32m~/anaconda3/lib/python3.9/site-packages/requests/sessions.py\u001b[0m in \u001b[0;36mrequest\u001b[0;34m(self, method, url, params, data, headers, cookies, files, auth, timeout, allow_redirects, proxies, hooks, stream, verify, cert, json)\u001b[0m\n\u001b[1;32m    540\u001b[0m         }\n\u001b[1;32m    541\u001b[0m         \u001b[0msend_kwargs\u001b[0m\u001b[0;34m.\u001b[0m\u001b[0mupdate\u001b[0m\u001b[0;34m(\u001b[0m\u001b[0msettings\u001b[0m\u001b[0;34m)\u001b[0m\u001b[0;34m\u001b[0m\u001b[0;34m\u001b[0m\u001b[0m\n\u001b[0;32m--> 542\u001b[0;31m         \u001b[0mresp\u001b[0m \u001b[0;34m=\u001b[0m \u001b[0mself\u001b[0m\u001b[0;34m.\u001b[0m\u001b[0msend\u001b[0m\u001b[0;34m(\u001b[0m\u001b[0mprep\u001b[0m\u001b[0;34m,\u001b[0m \u001b[0;34m**\u001b[0m\u001b[0msend_kwargs\u001b[0m\u001b[0;34m)\u001b[0m\u001b[0;34m\u001b[0m\u001b[0;34m\u001b[0m\u001b[0m\n\u001b[0m\u001b[1;32m    543\u001b[0m \u001b[0;34m\u001b[0m\u001b[0m\n\u001b[1;32m    544\u001b[0m         \u001b[0;32mreturn\u001b[0m \u001b[0mresp\u001b[0m\u001b[0;34m\u001b[0m\u001b[0;34m\u001b[0m\u001b[0m\n",
      "\u001b[0;32m~/anaconda3/lib/python3.9/site-packages/requests/sessions.py\u001b[0m in \u001b[0;36msend\u001b[0;34m(self, request, **kwargs)\u001b[0m\n\u001b[1;32m    653\u001b[0m \u001b[0;34m\u001b[0m\u001b[0m\n\u001b[1;32m    654\u001b[0m         \u001b[0;31m# Send the request\u001b[0m\u001b[0;34m\u001b[0m\u001b[0;34m\u001b[0m\u001b[0m\n\u001b[0;32m--> 655\u001b[0;31m         \u001b[0mr\u001b[0m \u001b[0;34m=\u001b[0m \u001b[0madapter\u001b[0m\u001b[0;34m.\u001b[0m\u001b[0msend\u001b[0m\u001b[0;34m(\u001b[0m\u001b[0mrequest\u001b[0m\u001b[0;34m,\u001b[0m \u001b[0;34m**\u001b[0m\u001b[0mkwargs\u001b[0m\u001b[0;34m)\u001b[0m\u001b[0;34m\u001b[0m\u001b[0;34m\u001b[0m\u001b[0m\n\u001b[0m\u001b[1;32m    656\u001b[0m \u001b[0;34m\u001b[0m\u001b[0m\n\u001b[1;32m    657\u001b[0m         \u001b[0;31m# Total elapsed time of the request (approximately)\u001b[0m\u001b[0;34m\u001b[0m\u001b[0;34m\u001b[0m\u001b[0m\n",
      "\u001b[0;32m~/anaconda3/lib/python3.9/site-packages/requests/adapters.py\u001b[0m in \u001b[0;36msend\u001b[0;34m(self, request, stream, timeout, verify, cert, proxies)\u001b[0m\n\u001b[1;32m    437\u001b[0m         \u001b[0;32mtry\u001b[0m\u001b[0;34m:\u001b[0m\u001b[0;34m\u001b[0m\u001b[0;34m\u001b[0m\u001b[0m\n\u001b[1;32m    438\u001b[0m             \u001b[0;32mif\u001b[0m \u001b[0;32mnot\u001b[0m \u001b[0mchunked\u001b[0m\u001b[0;34m:\u001b[0m\u001b[0;34m\u001b[0m\u001b[0;34m\u001b[0m\u001b[0m\n\u001b[0;32m--> 439\u001b[0;31m                 resp = conn.urlopen(\n\u001b[0m\u001b[1;32m    440\u001b[0m                     \u001b[0mmethod\u001b[0m\u001b[0;34m=\u001b[0m\u001b[0mrequest\u001b[0m\u001b[0;34m.\u001b[0m\u001b[0mmethod\u001b[0m\u001b[0;34m,\u001b[0m\u001b[0;34m\u001b[0m\u001b[0;34m\u001b[0m\u001b[0m\n\u001b[1;32m    441\u001b[0m                     \u001b[0murl\u001b[0m\u001b[0;34m=\u001b[0m\u001b[0murl\u001b[0m\u001b[0;34m,\u001b[0m\u001b[0;34m\u001b[0m\u001b[0;34m\u001b[0m\u001b[0m\n",
      "\u001b[0;32m~/anaconda3/lib/python3.9/site-packages/urllib3/connectionpool.py\u001b[0m in \u001b[0;36murlopen\u001b[0;34m(self, method, url, body, headers, retries, redirect, assert_same_host, timeout, pool_timeout, release_conn, chunked, body_pos, **response_kw)\u001b[0m\n\u001b[1;32m    697\u001b[0m \u001b[0;34m\u001b[0m\u001b[0m\n\u001b[1;32m    698\u001b[0m             \u001b[0;31m# Make the request on the httplib connection object.\u001b[0m\u001b[0;34m\u001b[0m\u001b[0;34m\u001b[0m\u001b[0m\n\u001b[0;32m--> 699\u001b[0;31m             httplib_response = self._make_request(\n\u001b[0m\u001b[1;32m    700\u001b[0m                 \u001b[0mconn\u001b[0m\u001b[0;34m,\u001b[0m\u001b[0;34m\u001b[0m\u001b[0;34m\u001b[0m\u001b[0m\n\u001b[1;32m    701\u001b[0m                 \u001b[0mmethod\u001b[0m\u001b[0;34m,\u001b[0m\u001b[0;34m\u001b[0m\u001b[0;34m\u001b[0m\u001b[0m\n",
      "\u001b[0;32m~/anaconda3/lib/python3.9/site-packages/urllib3/connectionpool.py\u001b[0m in \u001b[0;36m_make_request\u001b[0;34m(self, conn, method, url, timeout, chunked, **httplib_request_kw)\u001b[0m\n\u001b[1;32m    443\u001b[0m                     \u001b[0;31m# Python 3 (including for exceptions like SystemExit).\u001b[0m\u001b[0;34m\u001b[0m\u001b[0;34m\u001b[0m\u001b[0m\n\u001b[1;32m    444\u001b[0m                     \u001b[0;31m# Otherwise it looks like a bug in the code.\u001b[0m\u001b[0;34m\u001b[0m\u001b[0;34m\u001b[0m\u001b[0m\n\u001b[0;32m--> 445\u001b[0;31m                     \u001b[0msix\u001b[0m\u001b[0;34m.\u001b[0m\u001b[0mraise_from\u001b[0m\u001b[0;34m(\u001b[0m\u001b[0me\u001b[0m\u001b[0;34m,\u001b[0m \u001b[0;32mNone\u001b[0m\u001b[0;34m)\u001b[0m\u001b[0;34m\u001b[0m\u001b[0;34m\u001b[0m\u001b[0m\n\u001b[0m\u001b[1;32m    446\u001b[0m         \u001b[0;32mexcept\u001b[0m \u001b[0;34m(\u001b[0m\u001b[0mSocketTimeout\u001b[0m\u001b[0;34m,\u001b[0m \u001b[0mBaseSSLError\u001b[0m\u001b[0;34m,\u001b[0m \u001b[0mSocketError\u001b[0m\u001b[0;34m)\u001b[0m \u001b[0;32mas\u001b[0m \u001b[0me\u001b[0m\u001b[0;34m:\u001b[0m\u001b[0;34m\u001b[0m\u001b[0;34m\u001b[0m\u001b[0m\n\u001b[1;32m    447\u001b[0m             \u001b[0mself\u001b[0m\u001b[0;34m.\u001b[0m\u001b[0m_raise_timeout\u001b[0m\u001b[0;34m(\u001b[0m\u001b[0merr\u001b[0m\u001b[0;34m=\u001b[0m\u001b[0me\u001b[0m\u001b[0;34m,\u001b[0m \u001b[0murl\u001b[0m\u001b[0;34m=\u001b[0m\u001b[0murl\u001b[0m\u001b[0;34m,\u001b[0m \u001b[0mtimeout_value\u001b[0m\u001b[0;34m=\u001b[0m\u001b[0mread_timeout\u001b[0m\u001b[0;34m)\u001b[0m\u001b[0;34m\u001b[0m\u001b[0;34m\u001b[0m\u001b[0m\n",
      "\u001b[0;32m~/anaconda3/lib/python3.9/site-packages/urllib3/packages/six.py\u001b[0m in \u001b[0;36mraise_from\u001b[0;34m(value, from_value)\u001b[0m\n",
      "\u001b[0;32m~/anaconda3/lib/python3.9/site-packages/urllib3/connectionpool.py\u001b[0m in \u001b[0;36m_make_request\u001b[0;34m(self, conn, method, url, timeout, chunked, **httplib_request_kw)\u001b[0m\n\u001b[1;32m    438\u001b[0m                 \u001b[0;31m# Python 3\u001b[0m\u001b[0;34m\u001b[0m\u001b[0;34m\u001b[0m\u001b[0m\n\u001b[1;32m    439\u001b[0m                 \u001b[0;32mtry\u001b[0m\u001b[0;34m:\u001b[0m\u001b[0;34m\u001b[0m\u001b[0;34m\u001b[0m\u001b[0m\n\u001b[0;32m--> 440\u001b[0;31m                     \u001b[0mhttplib_response\u001b[0m \u001b[0;34m=\u001b[0m \u001b[0mconn\u001b[0m\u001b[0;34m.\u001b[0m\u001b[0mgetresponse\u001b[0m\u001b[0;34m(\u001b[0m\u001b[0;34m)\u001b[0m\u001b[0;34m\u001b[0m\u001b[0;34m\u001b[0m\u001b[0m\n\u001b[0m\u001b[1;32m    441\u001b[0m                 \u001b[0;32mexcept\u001b[0m \u001b[0mBaseException\u001b[0m \u001b[0;32mas\u001b[0m \u001b[0me\u001b[0m\u001b[0;34m:\u001b[0m\u001b[0;34m\u001b[0m\u001b[0;34m\u001b[0m\u001b[0m\n\u001b[1;32m    442\u001b[0m                     \u001b[0;31m# Remove the TypeError from the exception chain in\u001b[0m\u001b[0;34m\u001b[0m\u001b[0;34m\u001b[0m\u001b[0m\n",
      "\u001b[0;32m~/anaconda3/lib/python3.9/http/client.py\u001b[0m in \u001b[0;36mgetresponse\u001b[0;34m(self)\u001b[0m\n\u001b[1;32m   1369\u001b[0m         \u001b[0;32mtry\u001b[0m\u001b[0;34m:\u001b[0m\u001b[0;34m\u001b[0m\u001b[0;34m\u001b[0m\u001b[0m\n\u001b[1;32m   1370\u001b[0m             \u001b[0;32mtry\u001b[0m\u001b[0;34m:\u001b[0m\u001b[0;34m\u001b[0m\u001b[0;34m\u001b[0m\u001b[0m\n\u001b[0;32m-> 1371\u001b[0;31m                 \u001b[0mresponse\u001b[0m\u001b[0;34m.\u001b[0m\u001b[0mbegin\u001b[0m\u001b[0;34m(\u001b[0m\u001b[0;34m)\u001b[0m\u001b[0;34m\u001b[0m\u001b[0;34m\u001b[0m\u001b[0m\n\u001b[0m\u001b[1;32m   1372\u001b[0m             \u001b[0;32mexcept\u001b[0m \u001b[0mConnectionError\u001b[0m\u001b[0;34m:\u001b[0m\u001b[0;34m\u001b[0m\u001b[0;34m\u001b[0m\u001b[0m\n\u001b[1;32m   1373\u001b[0m                 \u001b[0mself\u001b[0m\u001b[0;34m.\u001b[0m\u001b[0mclose\u001b[0m\u001b[0;34m(\u001b[0m\u001b[0;34m)\u001b[0m\u001b[0;34m\u001b[0m\u001b[0;34m\u001b[0m\u001b[0m\n",
      "\u001b[0;32m~/anaconda3/lib/python3.9/http/client.py\u001b[0m in \u001b[0;36mbegin\u001b[0;34m(self)\u001b[0m\n\u001b[1;32m    317\u001b[0m         \u001b[0;31m# read until we get a non-100 response\u001b[0m\u001b[0;34m\u001b[0m\u001b[0;34m\u001b[0m\u001b[0m\n\u001b[1;32m    318\u001b[0m         \u001b[0;32mwhile\u001b[0m \u001b[0;32mTrue\u001b[0m\u001b[0;34m:\u001b[0m\u001b[0;34m\u001b[0m\u001b[0;34m\u001b[0m\u001b[0m\n\u001b[0;32m--> 319\u001b[0;31m             \u001b[0mversion\u001b[0m\u001b[0;34m,\u001b[0m \u001b[0mstatus\u001b[0m\u001b[0;34m,\u001b[0m \u001b[0mreason\u001b[0m \u001b[0;34m=\u001b[0m \u001b[0mself\u001b[0m\u001b[0;34m.\u001b[0m\u001b[0m_read_status\u001b[0m\u001b[0;34m(\u001b[0m\u001b[0;34m)\u001b[0m\u001b[0;34m\u001b[0m\u001b[0;34m\u001b[0m\u001b[0m\n\u001b[0m\u001b[1;32m    320\u001b[0m             \u001b[0;32mif\u001b[0m \u001b[0mstatus\u001b[0m \u001b[0;34m!=\u001b[0m \u001b[0mCONTINUE\u001b[0m\u001b[0;34m:\u001b[0m\u001b[0;34m\u001b[0m\u001b[0;34m\u001b[0m\u001b[0m\n\u001b[1;32m    321\u001b[0m                 \u001b[0;32mbreak\u001b[0m\u001b[0;34m\u001b[0m\u001b[0;34m\u001b[0m\u001b[0m\n",
      "\u001b[0;32m~/anaconda3/lib/python3.9/http/client.py\u001b[0m in \u001b[0;36m_read_status\u001b[0;34m(self)\u001b[0m\n\u001b[1;32m    278\u001b[0m \u001b[0;34m\u001b[0m\u001b[0m\n\u001b[1;32m    279\u001b[0m     \u001b[0;32mdef\u001b[0m \u001b[0m_read_status\u001b[0m\u001b[0;34m(\u001b[0m\u001b[0mself\u001b[0m\u001b[0;34m)\u001b[0m\u001b[0;34m:\u001b[0m\u001b[0;34m\u001b[0m\u001b[0;34m\u001b[0m\u001b[0m\n\u001b[0;32m--> 280\u001b[0;31m         \u001b[0mline\u001b[0m \u001b[0;34m=\u001b[0m \u001b[0mstr\u001b[0m\u001b[0;34m(\u001b[0m\u001b[0mself\u001b[0m\u001b[0;34m.\u001b[0m\u001b[0mfp\u001b[0m\u001b[0;34m.\u001b[0m\u001b[0mreadline\u001b[0m\u001b[0;34m(\u001b[0m\u001b[0m_MAXLINE\u001b[0m \u001b[0;34m+\u001b[0m \u001b[0;36m1\u001b[0m\u001b[0;34m)\u001b[0m\u001b[0;34m,\u001b[0m \u001b[0;34m\"iso-8859-1\"\u001b[0m\u001b[0;34m)\u001b[0m\u001b[0;34m\u001b[0m\u001b[0;34m\u001b[0m\u001b[0m\n\u001b[0m\u001b[1;32m    281\u001b[0m         \u001b[0;32mif\u001b[0m \u001b[0mlen\u001b[0m\u001b[0;34m(\u001b[0m\u001b[0mline\u001b[0m\u001b[0;34m)\u001b[0m \u001b[0;34m>\u001b[0m \u001b[0m_MAXLINE\u001b[0m\u001b[0;34m:\u001b[0m\u001b[0;34m\u001b[0m\u001b[0;34m\u001b[0m\u001b[0m\n\u001b[1;32m    282\u001b[0m             \u001b[0;32mraise\u001b[0m \u001b[0mLineTooLong\u001b[0m\u001b[0;34m(\u001b[0m\u001b[0;34m\"status line\"\u001b[0m\u001b[0;34m)\u001b[0m\u001b[0;34m\u001b[0m\u001b[0;34m\u001b[0m\u001b[0m\n",
      "\u001b[0;32m~/anaconda3/lib/python3.9/socket.py\u001b[0m in \u001b[0;36mreadinto\u001b[0;34m(self, b)\u001b[0m\n\u001b[1;32m    702\u001b[0m         \u001b[0;32mwhile\u001b[0m \u001b[0;32mTrue\u001b[0m\u001b[0;34m:\u001b[0m\u001b[0;34m\u001b[0m\u001b[0;34m\u001b[0m\u001b[0m\n\u001b[1;32m    703\u001b[0m             \u001b[0;32mtry\u001b[0m\u001b[0;34m:\u001b[0m\u001b[0;34m\u001b[0m\u001b[0;34m\u001b[0m\u001b[0m\n\u001b[0;32m--> 704\u001b[0;31m                 \u001b[0;32mreturn\u001b[0m \u001b[0mself\u001b[0m\u001b[0;34m.\u001b[0m\u001b[0m_sock\u001b[0m\u001b[0;34m.\u001b[0m\u001b[0mrecv_into\u001b[0m\u001b[0;34m(\u001b[0m\u001b[0mb\u001b[0m\u001b[0;34m)\u001b[0m\u001b[0;34m\u001b[0m\u001b[0;34m\u001b[0m\u001b[0m\n\u001b[0m\u001b[1;32m    705\u001b[0m             \u001b[0;32mexcept\u001b[0m \u001b[0mtimeout\u001b[0m\u001b[0;34m:\u001b[0m\u001b[0;34m\u001b[0m\u001b[0;34m\u001b[0m\u001b[0m\n\u001b[1;32m    706\u001b[0m                 \u001b[0mself\u001b[0m\u001b[0;34m.\u001b[0m\u001b[0m_timeout_occurred\u001b[0m \u001b[0;34m=\u001b[0m \u001b[0;32mTrue\u001b[0m\u001b[0;34m\u001b[0m\u001b[0;34m\u001b[0m\u001b[0m\n",
      "\u001b[0;32m~/anaconda3/lib/python3.9/ssl.py\u001b[0m in \u001b[0;36mrecv_into\u001b[0;34m(self, buffer, nbytes, flags)\u001b[0m\n\u001b[1;32m   1239\u001b[0m                   \u001b[0;34m\"non-zero flags not allowed in calls to recv_into() on %s\"\u001b[0m \u001b[0;34m%\u001b[0m\u001b[0;34m\u001b[0m\u001b[0;34m\u001b[0m\u001b[0m\n\u001b[1;32m   1240\u001b[0m                   self.__class__)\n\u001b[0;32m-> 1241\u001b[0;31m             \u001b[0;32mreturn\u001b[0m \u001b[0mself\u001b[0m\u001b[0;34m.\u001b[0m\u001b[0mread\u001b[0m\u001b[0;34m(\u001b[0m\u001b[0mnbytes\u001b[0m\u001b[0;34m,\u001b[0m \u001b[0mbuffer\u001b[0m\u001b[0;34m)\u001b[0m\u001b[0;34m\u001b[0m\u001b[0;34m\u001b[0m\u001b[0m\n\u001b[0m\u001b[1;32m   1242\u001b[0m         \u001b[0;32melse\u001b[0m\u001b[0;34m:\u001b[0m\u001b[0;34m\u001b[0m\u001b[0;34m\u001b[0m\u001b[0m\n\u001b[1;32m   1243\u001b[0m             \u001b[0;32mreturn\u001b[0m \u001b[0msuper\u001b[0m\u001b[0;34m(\u001b[0m\u001b[0;34m)\u001b[0m\u001b[0;34m.\u001b[0m\u001b[0mrecv_into\u001b[0m\u001b[0;34m(\u001b[0m\u001b[0mbuffer\u001b[0m\u001b[0;34m,\u001b[0m \u001b[0mnbytes\u001b[0m\u001b[0;34m,\u001b[0m \u001b[0mflags\u001b[0m\u001b[0;34m)\u001b[0m\u001b[0;34m\u001b[0m\u001b[0;34m\u001b[0m\u001b[0m\n",
      "\u001b[0;32m~/anaconda3/lib/python3.9/ssl.py\u001b[0m in \u001b[0;36mread\u001b[0;34m(self, len, buffer)\u001b[0m\n\u001b[1;32m   1097\u001b[0m         \u001b[0;32mtry\u001b[0m\u001b[0;34m:\u001b[0m\u001b[0;34m\u001b[0m\u001b[0;34m\u001b[0m\u001b[0m\n\u001b[1;32m   1098\u001b[0m             \u001b[0;32mif\u001b[0m \u001b[0mbuffer\u001b[0m \u001b[0;32mis\u001b[0m \u001b[0;32mnot\u001b[0m \u001b[0;32mNone\u001b[0m\u001b[0;34m:\u001b[0m\u001b[0;34m\u001b[0m\u001b[0;34m\u001b[0m\u001b[0m\n\u001b[0;32m-> 1099\u001b[0;31m                 \u001b[0;32mreturn\u001b[0m \u001b[0mself\u001b[0m\u001b[0;34m.\u001b[0m\u001b[0m_sslobj\u001b[0m\u001b[0;34m.\u001b[0m\u001b[0mread\u001b[0m\u001b[0;34m(\u001b[0m\u001b[0mlen\u001b[0m\u001b[0;34m,\u001b[0m \u001b[0mbuffer\u001b[0m\u001b[0;34m)\u001b[0m\u001b[0;34m\u001b[0m\u001b[0;34m\u001b[0m\u001b[0m\n\u001b[0m\u001b[1;32m   1100\u001b[0m             \u001b[0;32melse\u001b[0m\u001b[0;34m:\u001b[0m\u001b[0;34m\u001b[0m\u001b[0;34m\u001b[0m\u001b[0m\n\u001b[1;32m   1101\u001b[0m                 \u001b[0;32mreturn\u001b[0m \u001b[0mself\u001b[0m\u001b[0;34m.\u001b[0m\u001b[0m_sslobj\u001b[0m\u001b[0;34m.\u001b[0m\u001b[0mread\u001b[0m\u001b[0;34m(\u001b[0m\u001b[0mlen\u001b[0m\u001b[0;34m)\u001b[0m\u001b[0;34m\u001b[0m\u001b[0;34m\u001b[0m\u001b[0m\n",
      "\u001b[0;31mKeyboardInterrupt\u001b[0m: "
     ]
    }
   ],
   "source": [
    "for col, row in res.iterrows():\n",
    "    if col % 100 == 0:\n",
    "        print(col)\n",
    "    url = row['URL']\n",
    "    headers = requests.utils.default_headers()\n",
    "    headers.update(\n",
    "        {\n",
    "            'User-Agent': 'My User Agent 1.0',\n",
    "        }\n",
    "    )\n",
    "    response = requests.get(url, headers = headers)\n",
    "    soup = bs(response.content, 'html.parser')\n",
    "    #print(type(soup))\n",
    "    txtfil = str(soup)\n",
    "    beg = txtfil.find('/detail/')\n",
    "    fin = txtfil[beg:].find('.jpg')\n",
    "    img = txtfil[beg:beg+fin+4]\n",
    "    img = \"https://www.wga.hu\"+img\n",
    "    txt = soup.findAll('p')\n",
    "    txt_list = [i.text for i in txt]\n",
    "    imag[col] = (img, txt_list)\n",
    "    #print(len(txt_list))\n",
    "    #print(imag[col])\n",
    "\n",
    "\n",
    "\n"
   ]
  },
  {
   "cell_type": "code",
   "execution_count": null,
   "metadata": {},
   "outputs": [],
   "source": []
  }
 ],
 "metadata": {
  "interpreter": {
   "hash": "f4275cbb966fad0ad13f4947ab60e9af3145ed96e46c7ad2a706fb187f83e820"
  },
  "kernelspec": {
   "display_name": "Python 3.9.7 ('base')",
   "language": "python",
   "name": "python3"
  },
  "language_info": {
   "codemirror_mode": {
    "name": "ipython",
    "version": 3
   },
   "file_extension": ".py",
   "mimetype": "text/x-python",
   "name": "python",
   "nbconvert_exporter": "python",
   "pygments_lexer": "ipython3",
   "version": "3.9.7"
  },
  "orig_nbformat": 4
 },
 "nbformat": 4,
 "nbformat_minor": 2
}
