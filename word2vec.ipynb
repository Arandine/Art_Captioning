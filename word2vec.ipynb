{
 "cells": [
  {
   "cell_type": "code",
   "execution_count": 1,
   "metadata": {},
   "outputs": [
    {
     "name": "stderr",
     "output_type": "stream",
     "text": [
      "[nltk_data] Downloading package punkt to /home/hyunwook/nltk_data...\n",
      "[nltk_data]   Package punkt is already up-to-date!\n"
     ]
    }
   ],
   "source": [
    "import pandas as pd\n",
    "import gensim\n",
    "import nltk\n",
    "from nltk.tokenize import word_tokenize, sent_tokenize\n",
    "nltk.download('punkt')\n",
    "import re"
   ]
  },
  {
   "cell_type": "code",
   "execution_count": 2,
   "metadata": {},
   "outputs": [
    {
     "data": {
      "text/html": [
       "<div>\n",
       "<style scoped>\n",
       "    .dataframe tbody tr th:only-of-type {\n",
       "        vertical-align: middle;\n",
       "    }\n",
       "\n",
       "    .dataframe tbody tr th {\n",
       "        vertical-align: top;\n",
       "    }\n",
       "\n",
       "    .dataframe thead th {\n",
       "        text-align: right;\n",
       "    }\n",
       "</style>\n",
       "<table border=\"1\" class=\"dataframe\">\n",
       "  <thead>\n",
       "    <tr style=\"text-align: right;\">\n",
       "      <th></th>\n",
       "      <th>Unnamed: 0</th>\n",
       "      <th>image</th>\n",
       "      <th>description</th>\n",
       "      <th>removed</th>\n",
       "    </tr>\n",
       "  </thead>\n",
       "  <tbody>\n",
       "    <tr>\n",
       "      <th>0</th>\n",
       "      <td>0</td>\n",
       "      <td>https://www.wga.hu/detail/a/aachen/adonis.jpg</td>\n",
       "      <td>['\\n\\n']</td>\n",
       "      <td>NaN</td>\n",
       "    </tr>\n",
       "    <tr>\n",
       "      <th>1</th>\n",
       "      <td>1</td>\n",
       "      <td>https://www.wga.hu/detail/a/aachen/allegory.jpg</td>\n",
       "      <td>['\\r\\nThe painting, displaying the characteris...</td>\n",
       "      <td>The painting, displaying the characteristic Ma...</td>\n",
       "    </tr>\n",
       "    <tr>\n",
       "      <th>2</th>\n",
       "      <td>2</td>\n",
       "      <td>https://www.wga.hu/detail/a/aachen/allegorz.jpg</td>\n",
       "      <td>[\"\\r\\nThe allegorical painting in the Hermitag...</td>\n",
       "      <td>The allegorical painting in the Hermitage is a...</td>\n",
       "    </tr>\n",
       "    <tr>\n",
       "      <th>3</th>\n",
       "      <td>3</td>\n",
       "      <td>https://www.wga.hu/detail/a/aachen/antiope.jpg</td>\n",
       "      <td>['\\n\\n']</td>\n",
       "      <td>NaN</td>\n",
       "    </tr>\n",
       "    <tr>\n",
       "      <th>4</th>\n",
       "      <td>4</td>\n",
       "      <td>https://www.wga.hu/detail/a/aachen/athena.jpg</td>\n",
       "      <td>['\\n\\n']</td>\n",
       "      <td>NaN</td>\n",
       "    </tr>\n",
       "  </tbody>\n",
       "</table>\n",
       "</div>"
      ],
      "text/plain": [
       "   Unnamed: 0                                            image  \\\n",
       "0           0    https://www.wga.hu/detail/a/aachen/adonis.jpg   \n",
       "1           1  https://www.wga.hu/detail/a/aachen/allegory.jpg   \n",
       "2           2  https://www.wga.hu/detail/a/aachen/allegorz.jpg   \n",
       "3           3   https://www.wga.hu/detail/a/aachen/antiope.jpg   \n",
       "4           4    https://www.wga.hu/detail/a/aachen/athena.jpg   \n",
       "\n",
       "                                         description  \\\n",
       "0                                           ['\\n\\n']   \n",
       "1  ['\\r\\nThe painting, displaying the characteris...   \n",
       "2  [\"\\r\\nThe allegorical painting in the Hermitag...   \n",
       "3                                           ['\\n\\n']   \n",
       "4                                           ['\\n\\n']   \n",
       "\n",
       "                                             removed  \n",
       "0                                                NaN  \n",
       "1  The painting, displaying the characteristic Ma...  \n",
       "2  The allegorical painting in the Hermitage is a...  \n",
       "3                                                NaN  \n",
       "4                                                NaN  "
      ]
     },
     "execution_count": 2,
     "metadata": {},
     "output_type": "execute_result"
    }
   ],
   "source": [
    "df = pd.read_csv('/home/hyunwook/Desktop/Python/Art Project - Captioning/refined_dataset.csv')\n",
    "df.head()"
   ]
  },
  {
   "cell_type": "code",
   "execution_count": 3,
   "metadata": {},
   "outputs": [
    {
     "data": {
      "text/plain": [
       "1    the painting, displaying the characteristic ma...\n",
       "2    the allegorical painting in the hermitage is a...\n",
       "5    the representation of this group is related to...\n",
       "7    hans von aachen's allegorical paintings, with ...\n",
       "8    jupiter, the ruler of the gods, is seated on a...\n",
       "Name: removed, dtype: object"
      ]
     },
     "execution_count": 3,
     "metadata": {},
     "output_type": "execute_result"
    }
   ],
   "source": [
    "text_df = df['removed'].dropna().str.lower()\n",
    "text_df.head()"
   ]
  },
  {
   "cell_type": "code",
   "execution_count": 8,
   "metadata": {},
   "outputs": [],
   "source": [
    "from gensim.models import Word2Vec\n",
    "from gensim.models import KeyedVectors\n",
    "loaded_model = KeyedVectors.load_word2vec_format(\"artcaptions_w2v\")"
   ]
  },
  {
   "cell_type": "code",
   "execution_count": 12,
   "metadata": {},
   "outputs": [
    {
     "name": "stderr",
     "output_type": "stream",
     "text": [
      "/tmp/ipykernel_3025/3016570674.py:1: DeprecationWarning: Call to deprecated `wv` (Attribute will be removed in 4.0.0, use self instead).\n",
      "  loaded_model.wv.most_similar(\"mona\")\n"
     ]
    },
    {
     "data": {
      "text/plain": [
       "[('lisa', 0.9049094319343567),\n",
       " ('ravishing', 0.6127712726593018),\n",
       " ('loveliness', 0.611888587474823),\n",
       " ('momentum', 0.6083433032035828),\n",
       " ('tensely', 0.6078674793243408),\n",
       " ('demure', 0.605499804019928),\n",
       " ('arrogant', 0.6008023023605347),\n",
       " ('analytic', 0.5990757942199707),\n",
       " ('pastose', 0.598908543586731),\n",
       " ('imploringly', 0.5975501537322998)]"
      ]
     },
     "execution_count": 12,
     "metadata": {},
     "output_type": "execute_result"
    }
   ],
   "source": [
    "loaded_model.wv.most_similar(\"mona\")"
   ]
  },
  {
   "cell_type": "code",
   "execution_count": 4,
   "metadata": {},
   "outputs": [
    {
     "ename": "KeyboardInterrupt",
     "evalue": "",
     "output_type": "error",
     "traceback": [
      "\u001b[0;31m---------------------------------------------------------------------------\u001b[0m",
      "\u001b[0;31mKeyboardInterrupt\u001b[0m                         Traceback (most recent call last)",
      "\u001b[0;32m/tmp/ipykernel_3025/2558592491.py\u001b[0m in \u001b[0;36m<module>\u001b[0;34m\u001b[0m\n\u001b[1;32m      4\u001b[0m     \u001b[0;32mfor\u001b[0m \u001b[0mj\u001b[0m \u001b[0;32min\u001b[0m \u001b[0mspl\u001b[0m\u001b[0;34m:\u001b[0m\u001b[0;34m\u001b[0m\u001b[0;34m\u001b[0m\u001b[0m\n\u001b[1;32m      5\u001b[0m         \u001b[0;32mif\u001b[0m \u001b[0mj\u001b[0m\u001b[0;34m!=\u001b[0m\u001b[0;34m''\u001b[0m\u001b[0;34m:\u001b[0m\u001b[0;34m\u001b[0m\u001b[0;34m\u001b[0m\u001b[0m\n\u001b[0;32m----> 6\u001b[0;31m             \u001b[0msentences\u001b[0m\u001b[0;34m.\u001b[0m\u001b[0mappend\u001b[0m\u001b[0;34m(\u001b[0m\u001b[0mre\u001b[0m\u001b[0;34m.\u001b[0m\u001b[0msub\u001b[0m\u001b[0;34m(\u001b[0m\u001b[0;34mr'[^\\w\\s]'\u001b[0m\u001b[0;34m,\u001b[0m \u001b[0;34m' '\u001b[0m\u001b[0;34m,\u001b[0m \u001b[0mj\u001b[0m\u001b[0;34m)\u001b[0m\u001b[0;34m)\u001b[0m \u001b[0;31m#do not do this in generation. Context not taken into consideration\u001b[0m\u001b[0;34m\u001b[0m\u001b[0;34m\u001b[0m\u001b[0m\n\u001b[0m",
      "\u001b[0;32m~/anaconda3/lib/python3.9/re.py\u001b[0m in \u001b[0;36msub\u001b[0;34m(pattern, repl, string, count, flags)\u001b[0m\n\u001b[1;32m    208\u001b[0m     \u001b[0ma\u001b[0m \u001b[0mcallable\u001b[0m\u001b[0;34m,\u001b[0m \u001b[0mit\u001b[0m\u001b[0;31m'\u001b[0m\u001b[0ms\u001b[0m \u001b[0mpassed\u001b[0m \u001b[0mthe\u001b[0m \u001b[0mMatch\u001b[0m \u001b[0mobject\u001b[0m \u001b[0;32mand\u001b[0m \u001b[0mmust\u001b[0m \u001b[0;32mreturn\u001b[0m\u001b[0;34m\u001b[0m\u001b[0;34m\u001b[0m\u001b[0m\n\u001b[1;32m    209\u001b[0m     a replacement string to be used.\"\"\"\n\u001b[0;32m--> 210\u001b[0;31m     \u001b[0;32mreturn\u001b[0m \u001b[0m_compile\u001b[0m\u001b[0;34m(\u001b[0m\u001b[0mpattern\u001b[0m\u001b[0;34m,\u001b[0m \u001b[0mflags\u001b[0m\u001b[0;34m)\u001b[0m\u001b[0;34m.\u001b[0m\u001b[0msub\u001b[0m\u001b[0;34m(\u001b[0m\u001b[0mrepl\u001b[0m\u001b[0;34m,\u001b[0m \u001b[0mstring\u001b[0m\u001b[0;34m,\u001b[0m \u001b[0mcount\u001b[0m\u001b[0;34m)\u001b[0m\u001b[0;34m\u001b[0m\u001b[0;34m\u001b[0m\u001b[0m\n\u001b[0m\u001b[1;32m    211\u001b[0m \u001b[0;34m\u001b[0m\u001b[0m\n\u001b[1;32m    212\u001b[0m \u001b[0;32mdef\u001b[0m \u001b[0msubn\u001b[0m\u001b[0;34m(\u001b[0m\u001b[0mpattern\u001b[0m\u001b[0;34m,\u001b[0m \u001b[0mrepl\u001b[0m\u001b[0;34m,\u001b[0m \u001b[0mstring\u001b[0m\u001b[0;34m,\u001b[0m \u001b[0mcount\u001b[0m\u001b[0;34m=\u001b[0m\u001b[0;36m0\u001b[0m\u001b[0;34m,\u001b[0m \u001b[0mflags\u001b[0m\u001b[0;34m=\u001b[0m\u001b[0;36m0\u001b[0m\u001b[0;34m)\u001b[0m\u001b[0;34m:\u001b[0m\u001b[0;34m\u001b[0m\u001b[0;34m\u001b[0m\u001b[0m\n",
      "\u001b[0;31mKeyboardInterrupt\u001b[0m: "
     ]
    }
   ],
   "source": [
    "sentences = []\n",
    "for i in text_df:\n",
    "    spl = i.split('.')\n",
    "    for j in spl:\n",
    "        if j!='':\n",
    "            sentences.append(re.sub(r'[^\\w\\s]', ' ', j)) #do not do this in generation. Context not taken into consideration"
   ]
  },
  {
   "cell_type": "code",
   "execution_count": null,
   "metadata": {},
   "outputs": [
    {
     "data": {
      "text/plain": [
       "['the painting  displaying the characteristic mannerist style of the artist  is also known as the triumph of justice',\n",
       " 'the allegorical painting in the hermitage is a characteristic work by hans von aachen  who was himself a typical representative of the distinctive cosmopolitan school that formed at the turn of the 17th century at the court of holy roman emperor rudolf ii in prague',\n",
       " ' the three female figures embody peace  with an olive branch   science and the liberal arts  with a sphere and a palette  and abundance  with a goblet and a horn of plenty ',\n",
       " ' the subject was intended to symbolically extols the emperor s peaceful policies that led to prosperity and the flourishing of learning and the arts',\n",
       " ' the allegorical  encoded content  the unstable composition with movement along the diagonal  the aristocratic elongation of the figure  the cold tone of the picture  elements of eroticism and disturbing lighting are all features of the rudolfine artistic circle that eclectically combined features of italian and low countries mannerism']"
      ]
     },
     "execution_count": 28,
     "metadata": {},
     "output_type": "execute_result"
    }
   ],
   "source": [
    "sentences[0:5]"
   ]
  },
  {
   "cell_type": "code",
   "execution_count": null,
   "metadata": {},
   "outputs": [
    {
     "data": {
      "text/plain": [
       "[['the',\n",
       "  'painting',\n",
       "  'displaying',\n",
       "  'the',\n",
       "  'characteristic',\n",
       "  'mannerist',\n",
       "  'style',\n",
       "  'of',\n",
       "  'the',\n",
       "  'artist',\n",
       "  'is',\n",
       "  'also',\n",
       "  'known',\n",
       "  'as',\n",
       "  'the',\n",
       "  'triumph',\n",
       "  'of',\n",
       "  'justice'],\n",
       " ['the',\n",
       "  'allegorical',\n",
       "  'painting',\n",
       "  'in',\n",
       "  'the',\n",
       "  'hermitage',\n",
       "  'is',\n",
       "  'a',\n",
       "  'characteristic',\n",
       "  'work',\n",
       "  'by',\n",
       "  'hans',\n",
       "  'von',\n",
       "  'aachen',\n",
       "  'who',\n",
       "  'was',\n",
       "  'himself',\n",
       "  'a',\n",
       "  'typical',\n",
       "  'representative',\n",
       "  'of',\n",
       "  'the',\n",
       "  'distinctive',\n",
       "  'cosmopolitan',\n",
       "  'school',\n",
       "  'that',\n",
       "  'formed',\n",
       "  'at',\n",
       "  'the',\n",
       "  'turn',\n",
       "  'of',\n",
       "  'the',\n",
       "  '17th',\n",
       "  'century',\n",
       "  'at',\n",
       "  'the',\n",
       "  'court',\n",
       "  'of',\n",
       "  'holy',\n",
       "  'roman',\n",
       "  'emperor',\n",
       "  'rudolf',\n",
       "  'ii',\n",
       "  'in',\n",
       "  'prague'],\n",
       " ['the',\n",
       "  'three',\n",
       "  'female',\n",
       "  'figures',\n",
       "  'embody',\n",
       "  'peace',\n",
       "  'with',\n",
       "  'an',\n",
       "  'olive',\n",
       "  'branch',\n",
       "  'science',\n",
       "  'and',\n",
       "  'the',\n",
       "  'liberal',\n",
       "  'arts',\n",
       "  'with',\n",
       "  'a',\n",
       "  'sphere',\n",
       "  'and',\n",
       "  'a',\n",
       "  'palette',\n",
       "  'and',\n",
       "  'abundance',\n",
       "  'with',\n",
       "  'a',\n",
       "  'goblet',\n",
       "  'and',\n",
       "  'a',\n",
       "  'horn',\n",
       "  'of',\n",
       "  'plenty'],\n",
       " ['the',\n",
       "  'subject',\n",
       "  'was',\n",
       "  'intended',\n",
       "  'to',\n",
       "  'symbolically',\n",
       "  'extols',\n",
       "  'the',\n",
       "  'emperor',\n",
       "  's',\n",
       "  'peaceful',\n",
       "  'policies',\n",
       "  'that',\n",
       "  'led',\n",
       "  'to',\n",
       "  'prosperity',\n",
       "  'and',\n",
       "  'the',\n",
       "  'flourishing',\n",
       "  'of',\n",
       "  'learning',\n",
       "  'and',\n",
       "  'the',\n",
       "  'arts'],\n",
       " ['the',\n",
       "  'allegorical',\n",
       "  'encoded',\n",
       "  'content',\n",
       "  'the',\n",
       "  'unstable',\n",
       "  'composition',\n",
       "  'with',\n",
       "  'movement',\n",
       "  'along',\n",
       "  'the',\n",
       "  'diagonal',\n",
       "  'the',\n",
       "  'aristocratic',\n",
       "  'elongation',\n",
       "  'of',\n",
       "  'the',\n",
       "  'figure',\n",
       "  'the',\n",
       "  'cold',\n",
       "  'tone',\n",
       "  'of',\n",
       "  'the',\n",
       "  'picture',\n",
       "  'elements',\n",
       "  'of',\n",
       "  'eroticism',\n",
       "  'and',\n",
       "  'disturbing',\n",
       "  'lighting',\n",
       "  'are',\n",
       "  'all',\n",
       "  'features',\n",
       "  'of',\n",
       "  'the',\n",
       "  'rudolfine',\n",
       "  'artistic',\n",
       "  'circle',\n",
       "  'that',\n",
       "  'eclectically',\n",
       "  'combined',\n",
       "  'features',\n",
       "  'of',\n",
       "  'italian',\n",
       "  'and',\n",
       "  'low',\n",
       "  'countries',\n",
       "  'mannerism']]"
      ]
     },
     "execution_count": 29,
     "metadata": {},
     "output_type": "execute_result"
    }
   ],
   "source": [
    "result = [word_tokenize(sentence) for sentence in sentences]\n",
    "result[0:5]"
   ]
  },
  {
   "cell_type": "code",
   "execution_count": null,
   "metadata": {},
   "outputs": [],
   "source": [
    "from gensim.models import Word2Vec\n",
    "from gensim.models import KeyedVectors\n",
    "\n",
    "model = Word2Vec(sentences=result, size=100, window=5, min_count=5, workers=4, sg=0)"
   ]
  },
  {
   "cell_type": "code",
   "execution_count": null,
   "metadata": {},
   "outputs": [
    {
     "data": {
      "text/plain": [
       "[('juno', 0.7899802923202515),\n",
       " ('achilles', 0.7820530533790588),\n",
       " ('mortal', 0.7775269150733948),\n",
       " ('jupiter', 0.7622226476669312),\n",
       " ('alcmene', 0.7460999488830566),\n",
       " ('aphrodite', 0.7458866834640503),\n",
       " ('nessus', 0.7413670420646667),\n",
       " ('goddess', 0.7379498481750488),\n",
       " ('priapus', 0.7367745637893677),\n",
       " ('centaur', 0.7358673810958862)]"
      ]
     },
     "execution_count": 42,
     "metadata": {},
     "output_type": "execute_result"
    }
   ],
   "source": [
    "model.wv.most_similar(\"zeus\")"
   ]
  },
  {
   "cell_type": "code",
   "execution_count": null,
   "metadata": {},
   "outputs": [],
   "source": [
    "model.wv.save_word2vec_format('artcaptions_w2v')"
   ]
  },
  {
   "cell_type": "code",
   "execution_count": null,
   "metadata": {},
   "outputs": [],
   "source": [
    "#loading code\n",
    "\n",
    "#loaded_model = KeyedVectors.load_word2vec_format(\"artcaptions_w2v\")\n"
   ]
  }
 ],
 "metadata": {
  "interpreter": {
   "hash": "f4275cbb966fad0ad13f4947ab60e9af3145ed96e46c7ad2a706fb187f83e820"
  },
  "kernelspec": {
   "display_name": "Python 3.9.7 ('base')",
   "language": "python",
   "name": "python3"
  },
  "language_info": {
   "codemirror_mode": {
    "name": "ipython",
    "version": 3
   },
   "file_extension": ".py",
   "mimetype": "text/x-python",
   "name": "python",
   "nbconvert_exporter": "python",
   "pygments_lexer": "ipython3",
   "version": "3.9.7"
  },
  "orig_nbformat": 4
 },
 "nbformat": 4,
 "nbformat_minor": 2
}
